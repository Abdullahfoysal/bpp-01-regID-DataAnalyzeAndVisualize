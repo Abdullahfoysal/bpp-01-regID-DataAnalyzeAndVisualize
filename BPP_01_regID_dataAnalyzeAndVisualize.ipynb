{
  "nbformat": 4,
  "nbformat_minor": 0,
  "metadata": {
    "colab": {
      "provenance": [],
      "authorship_tag": "ABX9TyO/pUA84uoS2uGTNDun4yr+",
      "include_colab_link": true
    },
    "kernelspec": {
      "name": "python3",
      "display_name": "Python 3"
    },
    "language_info": {
      "name": "python"
    }
  },
  "cells": [
    {
      "cell_type": "markdown",
      "metadata": {
        "id": "view-in-github",
        "colab_type": "text"
      },
      "source": [
        "<a href=\"https://colab.research.google.com/github/Abdullahfoysal/bpp-01-regID-DataAnalyzeAndVisualize/blob/main/BPP_01_regID_dataAnalyzeAndVisualize.ipynb\" target=\"_parent\"><img src=\"https://colab.research.google.com/assets/colab-badge.svg\" alt=\"Open In Colab\"/></a>"
      ]
    },
    {
      "cell_type": "code",
      "execution_count": 1,
      "metadata": {
        "id": "SI7sXuVwVuk2"
      },
      "outputs": [],
      "source": [
        "import pandas as pd\n",
        "import matplotlib.pyplot as plt"
      ]
    },
    {
      "cell_type": "code",
      "source": [
        "!wget https://raw.githubusercontent.com/Abdullahfoysal/pp11-Project-AnalyzeAndVisualize/refs/heads/main/student_data.csv"
      ],
      "metadata": {
        "colab": {
          "base_uri": "https://localhost:8080/"
        },
        "id": "K0yjBb7WXZ4a",
        "outputId": "04486905-ec02-4cee-c86f-aac865127f79"
      },
      "execution_count": 2,
      "outputs": [
        {
          "output_type": "stream",
          "name": "stdout",
          "text": [
            "--2024-12-20 14:00:28--  https://raw.githubusercontent.com/Abdullahfoysal/pp11-Project-AnalyzeAndVisualize/refs/heads/main/student_data.csv\n",
            "Resolving raw.githubusercontent.com (raw.githubusercontent.com)... 185.199.108.133, 185.199.109.133, 185.199.110.133, ...\n",
            "Connecting to raw.githubusercontent.com (raw.githubusercontent.com)|185.199.108.133|:443... connected.\n",
            "HTTP request sent, awaiting response... 200 OK\n",
            "Length: 133023 (130K) [text/plain]\n",
            "Saving to: ‘student_data.csv’\n",
            "\n",
            "\rstudent_data.csv      0%[                    ]       0  --.-KB/s               \rstudent_data.csv    100%[===================>] 129.91K  --.-KB/s    in 0.02s   \n",
            "\n",
            "2024-12-20 14:00:28 (5.90 MB/s) - ‘student_data.csv’ saved [133023/133023]\n",
            "\n"
          ]
        }
      ]
    },
    {
      "cell_type": "code",
      "source": [
        "# data frame save\n",
        "print(\"Hello world\")"
      ],
      "metadata": {
        "colab": {
          "base_uri": "https://localhost:8080/"
        },
        "id": "ZNuQH19yZaLa",
        "outputId": "293e0466-0c31-46f9-d8fd-e0dd3ff28d2f"
      },
      "execution_count": 3,
      "outputs": [
        {
          "output_type": "stream",
          "name": "stdout",
          "text": [
            "Hello world\n"
          ]
        }
      ]
    }
  ]
}