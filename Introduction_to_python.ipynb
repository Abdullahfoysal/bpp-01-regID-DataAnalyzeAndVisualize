{
  "nbformat": 4,
  "nbformat_minor": 0,
  "metadata": {
    "colab": {
      "provenance": [],
      "collapsed_sections": [
        "ni_kBbMO_RRc",
        "GBhFgVYcAzP0"
      ],
      "toc_visible": true
    },
    "kernelspec": {
      "name": "python3",
      "display_name": "Python 3"
    },
    "language_info": {
      "name": "python"
    }
  },
  "cells": [
    {
      "cell_type": "markdown",
      "source": [
        "#Introduction to Basic Python Programming\n",
        "https://tinyurl.com/edge112233\n",
        "\n",
        "### Abdullah Al Foysal\n",
        "### Software Engineer: KAZ SOFTWARE LTD.\n",
        " - *** Lead Mobile App Developer UK TEAM***"
      ],
      "metadata": {
        "id": "DAmfvCPlc1Ie"
      }
    },
    {
      "cell_type": "markdown",
      "source": [
        "# Loop in python"
      ],
      "metadata": {
        "id": "xY77y6NK1cqT"
      }
    },
    {
      "cell_type": "code",
      "execution_count": null,
      "metadata": {
        "colab": {
          "base_uri": "https://localhost:8080/"
        },
        "id": "Rt8Tg4fa0Cj0",
        "outputId": "7be97118-0e2a-47c5-9def-3f2b40e0650b"
      },
      "outputs": [
        {
          "output_type": "stream",
          "name": "stdout",
          "text": [
            "Mango\n",
            "\n",
            "Apple\n",
            "\n",
            "Jackfruit\n",
            "\n",
            "0 is negative\n",
            "1 is positive\n",
            "2 is positive\n",
            "0\n",
            "1\n",
            "2\n",
            "3\n",
            "4\n"
          ]
        }
      ],
      "source": [
        "##Loop in python\n",
        "fruits = [\"Mango\", \"Apple\", \"Jackfruit\"]\n",
        "for fruit in fruits:\n",
        "  print(fruit+\"\\n\")\n",
        "\n",
        "count = 0\n",
        "while count< 5:\n",
        "  result = \"positive\" if count > 0 else \"negative\"\n",
        "  print(f\"{count} is {result}\")\n",
        "\n",
        "  if(count == 2):\n",
        "    break\n",
        "  count +=1\n",
        "\n",
        "\n",
        "for i in range(5):\n",
        "  print(i)"
      ]
    },
    {
      "cell_type": "markdown",
      "source": [
        "# Function, lambda Closure"
      ],
      "metadata": {
        "id": "cKPZ1ZoT1y2T"
      }
    },
    {
      "cell_type": "code",
      "source": [
        "def greeting(f: int =5):\n",
        "  print(f\"welcome {f}\")\n",
        "  print(f)\n",
        "\n",
        "greating_def = greeting\n",
        "greating_def()\n",
        "\n",
        "def sum_number(*numbers):\n",
        "  return sum(numbers)\n",
        "\n",
        "sum_number(1,2,3)\n",
        "\n",
        "##Lambda function\n",
        "square_number = lambda x: x**2\n",
        "\n",
        "square_number(6)\n",
        "\n",
        "##Closure\n",
        "def counter():\n",
        "    count = 0\n",
        "\n",
        "    def increment():\n",
        "        nonlocal count  # Access the count variable from the outer function\n",
        "        count += 1\n",
        "        return count\n",
        "\n",
        "    return increment\n",
        "\n",
        "counter_instance = counter\n",
        "print(counter_instance())  # Output: 1\n",
        "print(counter_instance())  # Output: 2\n",
        "print(counter_instance())  # Output: 3\n",
        "\n",
        "\n"
      ],
      "metadata": {
        "colab": {
          "base_uri": "https://localhost:8080/"
        },
        "id": "l5LNIvvf14bj",
        "outputId": "1f9cd94f-dae5-4d4c-94f1-676eadbc05f1"
      },
      "execution_count": null,
      "outputs": [
        {
          "output_type": "stream",
          "name": "stdout",
          "text": [
            "welcome 5\n",
            "5\n",
            "1\n",
            "2\n",
            "3\n"
          ]
        }
      ]
    },
    {
      "cell_type": "markdown",
      "source": [
        "# Custom Data Type for a Person"
      ],
      "metadata": {
        "id": "ni_kBbMO_RRc"
      }
    },
    {
      "cell_type": "code",
      "source": [
        "### MARK: Person DataModel\n",
        "class Person:\n",
        "  def __init__(self,name,age):\n",
        "    self.name = name\n",
        "    self.age = age\n",
        "\n",
        "  def greet(self):\n",
        "    return f\"Hi, my name is {self.name} and i'm {self.age} years old\"\n",
        "\n",
        "  def __str__(self):\n",
        "    return f\"{self.name},{self.age}\"\n",
        "\n",
        "person1 = Person(\"foysal\",26)\n",
        "person2 = Person(\"Abdullah\",60)\n",
        "print(person1.greet())\n",
        "print(person1)\n",
        "\n",
        "\n",
        "###Tuples\n",
        "my_tuple =(1,2,3)\n",
        "x,*y = my_tuple\n",
        "print(y)\n",
        "\n",
        "### dictionary\n",
        "my_dict = {\"name\":\"foysal\",\"age\":26}\n",
        "for key,value in my_dict.items():\n",
        "  print(key,value)"
      ],
      "metadata": {
        "colab": {
          "base_uri": "https://localhost:8080/"
        },
        "id": "xq9ZzcJt_YpC",
        "outputId": "bd075dae-9ecb-4cc1-9bbc-10986fcaed77"
      },
      "execution_count": null,
      "outputs": [
        {
          "output_type": "stream",
          "name": "stdout",
          "text": [
            "Hi, my name is foysal and i'm 26 years old\n",
            "foysal,26\n",
            "[2, 3]\n",
            "name foysal\n",
            "age 26\n"
          ]
        }
      ]
    },
    {
      "cell_type": "markdown",
      "source": [
        "# Enum\n"
      ],
      "metadata": {
        "id": "GBhFgVYcAzP0"
      }
    },
    {
      "cell_type": "code",
      "source": [
        "from enum import Enum\n",
        "\n",
        "class TrafficLight(Enum):\n",
        "  RED = 1\n",
        "  GREEN = 2\n",
        "  BLUE = 3\n",
        "\n",
        "## print all enum\n",
        "for traffic in TrafficLight:\n",
        "  print(traffic)"
      ],
      "metadata": {
        "colab": {
          "base_uri": "https://localhost:8080/"
        },
        "id": "pbam8vT6A3QV",
        "outputId": "6d594b7a-dfb8-4acb-92b4-0b24d649adec"
      },
      "execution_count": null,
      "outputs": [
        {
          "output_type": "stream",
          "name": "stdout",
          "text": [
            "TrafficLight.RED\n",
            "TrafficLight.GREEN\n",
            "TrafficLight.BLUE\n"
          ]
        }
      ]
    },
    {
      "cell_type": "markdown",
      "source": [
        "# File Handling (read,write,update,renaming,moving)"
      ],
      "metadata": {
        "id": "bHwbfp4XCylJ"
      }
    },
    {
      "cell_type": "code",
      "source": [
        "## Open file in write mode\n",
        "\n",
        "\n",
        "file = open(\"example.txt\",\"w\")\n",
        "\n",
        "## write content to the file\n",
        "file.write(\"Hello world to file\\n\")\n",
        "file.write(\"Second line\\n\")\n",
        "\n",
        "## close the file\n",
        "file.close()\n",
        "\n",
        "## Open file in read mode\n",
        "file = open(\"example.txt\",\"r\")\n",
        "\n",
        "## read file content\n",
        "content = file.read()\n",
        "print(content)\n",
        "\n",
        "## close the file\n",
        "file.close()\n",
        "\n",
        "\n",
        "def write_text_file(file_path, content):\n",
        "    with open(file_path, 'w') as file:\n",
        "        file.write(content)\n",
        "\n",
        "write_text_file(\"example.txt\", \"Hello, world!\")\n",
        "\n",
        "\n",
        "## Renaming\n",
        "import os\n",
        "os.rename(\"example.txt\",\"example2.txt\")\n",
        "\n",
        "## Deleting\n",
        "# os.remove(\"example2.txt\")\n",
        "\n",
        "\n",
        "## Creating directory\n",
        "os.mkdir(\"foysal_directory\")\n",
        "# os.chdir(\"foysal_directory\")\n",
        "os.getcwd()\n",
        "# move example2.txt to foysal_directory\n",
        "os.rename(\"example2.txt\",\"foysal_directory/example2.txt\")\n",
        "\n",
        "\n",
        "# os.chdir(\"..\")\n",
        "# os.rmdir(\"foysal_directory\")\n",
        "\n",
        "\n"
      ],
      "metadata": {
        "colab": {
          "base_uri": "https://localhost:8080/"
        },
        "id": "sZLb_uumDHfK",
        "outputId": "67a09646-b888-4e00-d15b-10448c8dd32c"
      },
      "execution_count": null,
      "outputs": [
        {
          "output_type": "stream",
          "name": "stdout",
          "text": [
            "Hello world to file\n",
            "Second line\n",
            "\n"
          ]
        }
      ]
    },
    {
      "cell_type": "markdown",
      "source": [
        "# Task\n",
        "  1. Create student.txt file\n",
        "  2. write two student name,roll (format)\n",
        "  3. generate student from the file using generator\n",
        "  \n",
        "\n"
      ],
      "metadata": {
        "id": "Vj507akILhix"
      }
    },
    {
      "cell_type": "code",
      "source": [
        "\n",
        "write_text_file(\"student.txt\",f\"{person1}\\n{person2}\")\n",
        "\n",
        "def student_generator():\n",
        "  with open(\"student.txt\",\"r\") as file:\n",
        "    for line in file:\n",
        "      yield (line.strip().split(\",\")[0])\n",
        "gen = student_generator()\n",
        "print(next(gen))"
      ],
      "metadata": {
        "colab": {
          "base_uri": "https://localhost:8080/"
        },
        "id": "rSj8AGe0L3dq",
        "outputId": "32650373-0466-4ba5-9d71-e6cc68b7d93b"
      },
      "execution_count": null,
      "outputs": [
        {
          "output_type": "stream",
          "name": "stdout",
          "text": [
            "foysal\n"
          ]
        }
      ]
    },
    {
      "cell_type": "markdown",
      "source": [
        "# Exception Handling in Python\n",
        "Exception handling in Python is a mechanism to handle runtime errors and exceptions gracefully, without crashing the program. This is achieved using the try, except, else, and finally blocks."
      ],
      "metadata": {
        "id": "GAqC1FOBOBVM"
      }
    },
    {
      "cell_type": "markdown",
      "source": [
        "An exception is an event that occurs during the execution of a program that disrupts its normal flow. Examples include:\n",
        "\n",
        "1. Division by zero (ZeroDivisionError)\n",
        "2. File not found (FileNotFoundError)\n",
        "3. Invalid syntax (SyntaxError)"
      ],
      "metadata": {
        "id": "S53cc7UUOLgR"
      }
    },
    {
      "cell_type": "code",
      "source": [
        "def read_file(file_name):\n",
        "  with open(file_name,\"r\") as file:\n",
        "    print(file.read())\n",
        "\n",
        "\n",
        "\n",
        "try:\n",
        "  x = 10/1\n",
        "  print (f\"try block result {x}\")\n",
        "  read_file(\"example.txt\")\n",
        "except ZeroDivisionError as e:\n",
        "  print(f\"ZeroDivisionError says: {e}\\n\")\n",
        "except FileNotFoundError as e:\n",
        "  print(f\"Error says: {e}\\n\")\n",
        "except Exception as e:\n",
        "  print(f\"Error says: {e}\\n\")\n",
        "else:\n",
        "  print(\"No error Try block run successfully\\n\")\n",
        "finally:\n",
        "  print(\"Finally\\n\")\n"
      ],
      "metadata": {
        "colab": {
          "base_uri": "https://localhost:8080/"
        },
        "id": "T5mjY9rtOF92",
        "outputId": "650c3ff5-a906-41e5-df3f-8b421673ec27"
      },
      "execution_count": null,
      "outputs": [
        {
          "output_type": "stream",
          "name": "stdout",
          "text": [
            "try block result 10.0\n",
            "Error says: [Errno 2] No such file or directory: 'example.txt'\n",
            "\n",
            "Finally\n",
            "\n"
          ]
        }
      ]
    },
    {
      "cell_type": "markdown",
      "source": [
        "# Custom Exception\n",
        "User Defined exception"
      ],
      "metadata": {
        "id": "72Rhj8J5YI4h"
      }
    },
    {
      "cell_type": "code",
      "source": [
        "class EdgeProgramException(Exception):\n",
        "  def __init__(self,message):\n",
        "    self.message = message\n",
        "    super().__init__(self.message)\n",
        "\n",
        "try:\n",
        "  if 1 > 0:\n",
        "    raise EdgeProgramException(\" You are Next Python Developer Exception\")\n",
        "except EdgeProgramException as e:\n",
        "  print(e)"
      ],
      "metadata": {
        "colab": {
          "base_uri": "https://localhost:8080/"
        },
        "id": "01C6N8EZYP1Q",
        "outputId": "516eb9c3-d8d5-4f7e-c759-6d64aa57c3d8"
      },
      "execution_count": null,
      "outputs": [
        {
          "output_type": "stream",
          "name": "stdout",
          "text": [
            " You are Next Python Developer Exception\n"
          ]
        }
      ]
    },
    {
      "cell_type": "markdown",
      "source": [
        "# Console input"
      ],
      "metadata": {
        "id": "vlFcT_14iN5k"
      }
    },
    {
      "cell_type": "code",
      "source": [
        "input_data = input(\"Enter your Bank Account: \")\n",
        "print(f\"Your AC is {input_data}\")\n",
        "input_list = input(\"Enter your serial list separated with (, comma): \").split(\",\")\n",
        "print(f\"Your list is {input_list}\")\n",
        "# input list to int\n",
        "input_list = [int(x) for x in input_list]\n",
        "print(f\"Your list is {input_list}\")"
      ],
      "metadata": {
        "colab": {
          "base_uri": "https://localhost:8080/"
        },
        "id": "n38KZAGZiS2f",
        "outputId": "4f0b3213-1f43-4dfc-f0d6-756e1cde89c3"
      },
      "execution_count": null,
      "outputs": [
        {
          "output_type": "stream",
          "name": "stdout",
          "text": [
            "Enter your name: A\n",
            "Your name is A\n",
            "Enter your list: 1,3\n",
            "Your list is ['1', '3']\n",
            "Your list is [1, 3]\n"
          ]
        }
      ]
    },
    {
      "cell_type": "markdown",
      "source": [
        "# Python Regular Expressions (RegEx/regex)\n",
        "\n",
        "**Real life Application of Regex:**\n",
        " - Metro-Rail pass validation (check valid user)\n",
        " - Finger print validation\n",
        " - Input form validation\n",
        " - Data Engineering\n",
        "\n"
      ],
      "metadata": {
        "id": "3argLp_gj9_o"
      }
    },
    {
      "cell_type": "markdown",
      "source": [
        "A RegEx, or Regular Expression, is a sequence of characters that forms a search pattern.\n",
        "\n",
        "RegEx can be used to check if a string contains the specified search pattern.\n",
        "\n",
        "Definition: Regular Expressions are sequences of characters defining a search pattern.\n",
        "\n",
        "\n",
        "**Application of Regex:**\n",
        "- Searching for patterns in text (e.g., finding keywords).\n",
        "- Validating input formats (e.g., email, phone numbers).\n",
        "- Extracting or replacing specific parts of a string.\n",
        "\n",
        "Python has a built-in package called re, which can be used to work with Regular Expressions."
      ],
      "metadata": {
        "id": "Yq7zF9_6erj5"
      }
    },
    {
      "cell_type": "code",
      "source": [
        "import re\n",
        "\n",
        "where_am_i = \"I am from Gazipur, Bangladesh\"\n",
        "where_is_noman = \"I am from Khulna, Bangladesh\"\n",
        "\n",
        "### r = raw valu\n",
        "pattern = r\"Gazipur\"\n",
        "\n",
        "### Search = search all over the string(line)\n",
        "\n",
        "if re.search(pattern, where_is_noman):\n",
        "  print(\"He is from Gazipur\")\n",
        "else:\n",
        "  print(\"He is from anywhere else\")\n",
        "### match = start of string\n",
        "my_address = \"Dhaka,Bangladesh Dhaka\"\n",
        "pattern: str = r\"^Dhaka\"\n",
        "\n",
        "matches = re.match(pattern, my_address)\n",
        "\n",
        "if matches:\n",
        "  print(\"Dhaka available\")\n",
        "else:\n",
        "   print(\"Dhaka not available\")\n",
        "\n",
        "### ^ = start of the string\n",
        "### $ = end of the string\n",
        "\n",
        "pattern = r\"^[aeiou]\"\n",
        "my_string = \"a this i\"\n",
        "\n",
        "matches = re.findall(pattern,my_string)\n",
        "print(matches)\n",
        "\n",
        "### \\d = Any Digit\n",
        "pattern = r\"\\d\"\n",
        "my_string = \"a this1 i 100\"\n",
        "matches = re.findall(pattern,my_string)\n",
        "print(f\"digit: {matches}\")\n",
        "\n",
        "### \\w = Any word character\n",
        "pattern = r\"\\w\"\n",
        "my_string = \"%^&this^%\"\n",
        "matches = re.findall(pattern,my_string)\n",
        "print(f\"Word Character/letter: {matches}\")\n",
        "\n",
        "\n",
        "### \\w = white space (space)\n",
        "pattern = r\"\\s\"\n",
        "my_string = \"%^&thi s^%\"\n",
        "matches = re.findall(pattern,my_string)\n",
        "print(f\"White space: {matches}\")\n",
        "\n",
        "### . = matches any character except newline (wild card character)\n",
        "pattern = r\"\\+88..df\"\n",
        "my_string = \"abckdflmnab..df\"\n",
        "matches = re.findall(pattern,my_string)\n",
        "print(f\"matched : {matches}\")\n",
        "\n",
        "### . = matches any character except newline (wild card character)\n",
        "pattern = r\"\\+88..df\"\n",
        "my_string = \"abckdflmnab..df\"\n",
        "matches = re.findall(pattern,my_string)\n",
        "print(f\"matched : {matches}\")\n",
        "\n",
        "### . = matches any character except newline (wild card character)\n",
        "pattern = r\"\\+88..df\"\n",
        "my_string = \"abckdflmnab..df\"\n",
        "matches = re.findall(pattern,my_string)\n",
        "print(f\"matched.. pattern : {matches}\")\n",
        "\n",
        "### \\bword\\b = Word boundary\n",
        "pattern = r\"\\bword\\b\"\n",
        "my_string = \"This is a word of password\"\n",
        "matches = re.findall(pattern,my_string)\n",
        "print(f\"matched word : {matches}\")\n",
        "\n",
        "### \\Bword = non-Word boundary\n",
        "pattern = r\"\\Bword\"\n",
        "my_string = \"This is a word of password\"\n",
        "matches = re.findall(pattern,my_string)\n",
        "print(f\"matched non-word : {matches}\")\n",
        "\n",
        "\n",
        "\n"
      ],
      "metadata": {
        "colab": {
          "base_uri": "https://localhost:8080/"
        },
        "id": "_qEJlQQKkGmV",
        "outputId": "c6343cd5-19eb-41c5-ae55-9f88f7bea65c"
      },
      "execution_count": null,
      "outputs": [
        {
          "output_type": "stream",
          "name": "stdout",
          "text": [
            "He is from anywhere else\n",
            "Dhaka available\n",
            "['a']\n",
            "digit: ['1', '1', '0', '0']\n",
            "Word Character/letter: ['t', 'h', 'i', 's']\n",
            "White space: [' ']\n",
            "matched : []\n",
            "matched : []\n",
            "matched.. pattern : []\n",
            "matched word : ['word']\n",
            "matched non-word : ['word']\n"
          ]
        }
      ]
    },
    {
      "cell_type": "markdown",
      "source": [
        "# Regular Expression Task 1: Coupon validation\n",
        "write the Validatation regex program.\n",
        "\n",
        "```\n",
        " 1. Coupon Start with \"CPN-\"\n",
        " 2. middle value \"SUST-\"\n",
        " 3. End with 6 digit number only\n",
        "\n",
        " Test:\n",
        "  case 1. CPN-SUST-123456 -> return valid\n",
        "  case 2. CPN-TUST-1234324 -> return invalid\n",
        "  case 3. CPN-SUST-001000 -> return valid\n",
        "  case 4. CPN-S@ST-654321 -> return invalid\n",
        "```\n",
        "\n"
      ],
      "metadata": {
        "id": "nHQ_nqHTHbyd"
      }
    },
    {
      "cell_type": "code",
      "source": [
        "import re\n",
        "pattern = r\"^CPN\\-SUST\\-\\d{6}$\"\n",
        "\n",
        "\n",
        "my_string = \"CPN-SUST-123450\"\n",
        "# my_string = input(\"Enter your coupon: \")\n",
        "\n",
        "matches = re.match(pattern,my_string)\n",
        "if matches:\n",
        "  print(\"valid coupon\")\n",
        "else:\n",
        "  print(\"Not valid coupon\")"
      ],
      "metadata": {
        "outputId": "cbd11b6a-968a-4062-8b8e-865b0fc8f5ca",
        "colab": {
          "base_uri": "https://localhost:8080/"
        },
        "id": "XKOXLmDrFaZT"
      },
      "execution_count": null,
      "outputs": [
        {
          "output_type": "stream",
          "name": "stdout",
          "text": [
            "valid coupon\n"
          ]
        }
      ]
    },
    {
      "cell_type": "markdown",
      "source": [
        "## Summary\n",
        "# String manipulation, validation\n",
        "- **match**: Matching string.\n",
        "- **search**: Search string.\n",
        "- **replace**: Replace string.\n",
        "- **split**: split from a pattern."
      ],
      "metadata": {
        "id": "iQxTW3-SaWyG"
      }
    },
    {
      "cell_type": "markdown",
      "source": [
        "\n",
        "#### **Symbols and Patterns**  \n",
        "| Symbol         | Meaning                                   | Example                  | Result                            |\n",
        "|----------------|-------------------------------------------|--------------------------|-----------------------------------|\n",
        "| `.`            | Matches any character (except newline)    | `r\"a.b\"` on `\"acb, adb\"` | Matches `\"acb\", \"adb\"`           |\n",
        "| `^`            | Start of string                          | `r\"^Hello\"`             | Matches `\"Hello world\"`          |\n",
        "| `$`            | End of string                            | `r\"world$\"`             | Matches `\"Hello world\"`          |\n",
        "| `[]`           | Character set                            | `r\"[aeiou]\"`            | Matches any vowel                |\n",
        "| `\\d`           | Any digit (0-9)                          | `r\"\\d\"`                 | Matches `\"123\"` in `\"abc123\"`    |\n",
        "| `\\w`           | Any word character (a-z, 0-9, _)         | `r\"\\w\"`                 | Matches `\"a1_\" in `\"!a1_b\"`      |\n",
        "| `\\s`           | Any whitespace character                 | `r\"\\s\"`                 | Matches `\" \"` in `\"a b\"`         |\n",
        "\n",
        "---\n",
        "\n",
        "#### **Illustration:**  \n",
        "\n",
        "**Match a Phone Number Format**  \n",
        "\n",
        "\n",
        "**Quick Exercise:**  \n",
        "- Write a regex to match a 5-digit zip code.  \n",
        "- Example: `\"90210\"` should match.  \n",
        "\n",
        "---\n",
        "\n",
        "#### **Quantifiers**  \n",
        "| Symbol    | Meaning                 | Example              | Result                          |\n",
        "|-----------|-------------------------|----------------------|---------------------------------|\n",
        "| `*`       | 0 or more occurrences   | `r\"ab*c\"` on `\"ac\"`  | Matches `\"ac\", \"abc\", \"abbc\"`  |\n",
        "| `+`       | 1 or more occurrences   | `r\"ab+c\"` on `\"ac\"`  | Matches `\"abc\", \"abbc\"`        |\n",
        "| `?`       | 0 or 1 occurrence       | `r\"ab?c\"` on `\"abc\"` | Matches `\"ac\", \"abc\"`          |\n",
        "| `{n,m}`   | Between n and m times   | `r\"a{1,3}\"`          | Matches `\"a\", \"aa\", \"aaa\"`     |\n",
        "\n",
        "#### **Illustration:**  \n",
        "**Extract Repeated Patterns**  \n",
        "\n",
        "\n",
        "**Quick Exercise:**  \n",
        "- Find all words with exactly 4 letters in `\"This is a test of regex.\"`.  \n",
        "\n",
        "---\n",
        "\n",
        "### **3. Anchors and Boundaries**  \n",
        "\n",
        "#### **Key Patterns**  \n",
        "| Pattern     | Meaning                                   | Example                 | Result                     |\n",
        "|-------------|-------------------------------------------|-------------------------|---------------------------|\n",
        "| `^`         | Start of string                          | `r\"^Hello\"`            | Matches `\"Hello there\"`   |\n",
        "| `$`         | End of string                            | `r\"world$\"`            | Matches `\"Hello world\"`   |\n",
        "| `\\b`        | Word boundary                            | `r\"\\bword\\b\"`          | Matches `\"word\" in text`  |\n",
        "| `\\B`        | Non-word boundary                        | `r\"\\Bword\"`            | Matches part of `\"password\"` |\n",
        "\n",
        "#### **Illustration:**  \n",
        "**Match Words at the Start of a Sentence**  \n",
        "\n",
        "**Quick Exercise:**  \n",
        "- Write a regex to find all words ending in `\"ing\"` in `\"I am singing while running.\"`.  \n",
        "\n",
        "---\n",
        "\n",
        "### **4. Real-Life Scenarios and Mini-Exercises**  \n",
        "#### **Scenario 1: Validate User Input**  \n",
        "- **Problem:** Check if an email is valid.  \n",
        "- **Regex:** `r\"^[\\w\\.-]+@[\\w\\.-]+\\.\\w+$\"`  \n",
        "\n",
        "**Quick Exercise:**  \n",
        "- Write a regex to validate a password with at least one uppercase letter, one digit, and one special character.  \n",
        "\n",
        "---\n",
        "\n",
        "#### **Scenario 2: Search and Replace**  \n",
        "- **Problem:** Replace all occurrences of `\"2023\"` with `\"2024\"`.  \n",
        "```python\n",
        "text = \"Happy New Year 2023!\"\n",
        "```\n",
        "\n",
        "---"
      ],
      "metadata": {
        "id": "jGKrWB9nO_Am"
      }
    },
    {
      "cell_type": "markdown",
      "source": [
        "# Python RegEx class 12\n",
        "\n",
        "**Real life Application of Regex:**\n",
        " - Metro-Rail pass validation (check valid user)\n",
        " - Finger print validation\n",
        " - Input form validation\n",
        " - Data Engineering"
      ],
      "metadata": {
        "id": "vtd_9FKSGl2s"
      }
    },
    {
      "cell_type": "markdown",
      "source": [
        "What regex do:\n",
        "1. Basically Finding specific pattern type data in a long/short string/sentence\n",
        "2. Manipulate sentence/string like replace,split,findAll sequence"
      ],
      "metadata": {
        "id": "AKcroQKoHzwz"
      }
    },
    {
      "cell_type": "code",
      "source": [
        "import re\n",
        "\n",
        "where_am_i = \"I am from Gazipur, Bangladesh\"\n",
        "\n",
        "### r = raw value\n",
        "pattern = r\"Gazipur\"\n",
        "\n",
        "### Search = search all over the string(line)\n",
        "\n",
        "if re.search(pattern, where_am_i):\n",
        "  print(\"I am from Gazipur\")\n",
        "else:\n",
        "  print(\"I'm from anywhere else\")\n"
      ],
      "metadata": {
        "colab": {
          "base_uri": "https://localhost:8080/"
        },
        "id": "-yMrSlPtIO_h",
        "outputId": "9ac7235c-059a-44c6-9514-b12e4f886ca5"
      },
      "execution_count": null,
      "outputs": [
        {
          "output_type": "stream",
          "name": "stdout",
          "text": [
            "I am from Gazipur\n"
          ]
        }
      ]
    },
    {
      "cell_type": "code",
      "source": [
        "# Your code\n",
        "my_sentence = \"This is a sentence containing python word. python is a high level programming language\"\n",
        "# write the pattern finding python\n",
        "\n",
        "## Search the pattern over the my_sentence and print like above\n"
      ],
      "metadata": {
        "id": "chXF04-IIpHH"
      },
      "execution_count": null,
      "outputs": []
    },
    {
      "cell_type": "code",
      "source": [
        "# Task : FOOD PANDA Coupon valiation\n",
        "my_coupon = \"450food\"\n",
        "#^= at the begining food\n",
        "#\\d{3}\n",
        "pattern = r\"^food\\d{3}$\"\n",
        "\n",
        "matches = re.match(pattern,my_coupon)\n",
        "if matches:\n",
        "  print(\"valid coupon\")\n",
        "#write the else statement here invalid coupon"
      ],
      "metadata": {
        "id": "2zKkjT3n5Zgc"
      },
      "execution_count": null,
      "outputs": []
    },
    {
      "cell_type": "code",
      "source": [
        "#Task BD phone number validation\n",
        "pattern = r\"^\\+88\\d{11}$\"\n",
        "my_string = input(\"Enter your phone number: \")\n",
        "matches = re.match(pattern,my_string)\n",
        "print(f\"valid number: {matches}\")\n",
        "if matches:\n",
        "  print('valid phone number')\n",
        "else:\n",
        "  print(\"Invalid number\")\n"
      ],
      "metadata": {
        "colab": {
          "base_uri": "https://localhost:8080/"
        },
        "id": "5Hj_9otUNda6",
        "outputId": "b4008aad-b626-4cb5-df14-efd33f0b9f8a"
      },
      "execution_count": null,
      "outputs": [
        {
          "output_type": "stream",
          "name": "stdout",
          "text": [
            "Enter your phone number: +8801960910540\n",
            "valid number: <re.Match object; span=(0, 14), match='+8801960910540'>\n",
            "valid phone number\n"
          ]
        }
      ]
    },
    {
      "cell_type": "code",
      "source": [
        "# Split\n",
        "text = \", 12/1 North housing\"\n",
        "pattern = r\",\"\n",
        "\n",
        "matched = re.split(pattern, text)\n",
        "print(matched)\n"
      ],
      "metadata": {
        "colab": {
          "base_uri": "https://localhost:8080/"
        },
        "id": "2wjCPb1fJxzx",
        "outputId": "68dc06be-84fe-4a74-9111-8c443507b8e5"
      },
      "execution_count": null,
      "outputs": [
        {
          "output_type": "stream",
          "name": "stdout",
          "text": [
            "['', ' 12/1 North housing']\n"
          ]
        }
      ]
    },
    {
      "cell_type": "code",
      "source": [
        "#input a string separated by comma (,)\n",
        "class_math_numbers = input(\"Enter all maths number separated by(,): \")\n",
        "print(class_math_numbers)\n",
        "pattern = r\",\"\n",
        "numbers_list = re.split(pattern, class_math_numbers)\n",
        "print(numbers_list)\n",
        "print(numbers_list[0])"
      ],
      "metadata": {
        "colab": {
          "base_uri": "https://localhost:8080/"
        },
        "id": "9kStSjubuU9n",
        "outputId": "ff241719-355d-4990-f54e-c5926618d88e"
      },
      "execution_count": null,
      "outputs": [
        {
          "output_type": "stream",
          "name": "stdout",
          "text": [
            "Enter all maths number separated by(,): 10,20\n",
            "10,20\n",
            "['10', '20']\n",
            "10\n"
          ]
        }
      ]
    },
    {
      "cell_type": "code",
      "source": [
        "print(numbers_list[1])"
      ],
      "metadata": {
        "colab": {
          "base_uri": "https://localhost:8080/"
        },
        "id": "zKRMF3yix-xY",
        "outputId": "2fd830b4-333c-46d3-c85e-c35080a15fd2"
      },
      "execution_count": null,
      "outputs": [
        {
          "output_type": "stream",
          "name": "stdout",
          "text": [
            "20\n"
          ]
        }
      ]
    },
    {
      "cell_type": "code",
      "source": [
        "# write the code for split(কর্তন করা/ভেজ্ঞে ফেলা) Error from below\n",
        "# Error: python is the best programming language\n"
      ],
      "metadata": {
        "id": "LT8dogDjKBXE"
      },
      "execution_count": null,
      "outputs": []
    },
    {
      "cell_type": "code",
      "source": [
        "# Substituition\n",
        "text = \"add: 12/1 North housing\"\n",
        "pattern = r\"add:\"\n",
        "correct_pattern = \"Address:\"\n",
        "\n",
        "matched = re.sub(pattern, correct_pattern,text)\n",
        "print(matched)\n"
      ],
      "metadata": {
        "colab": {
          "base_uri": "https://localhost:8080/"
        },
        "id": "BVbjxvklJzVr",
        "outputId": "eb447a08-96fc-4bdf-a09c-e765b2939508"
      },
      "execution_count": null,
      "outputs": [
        {
          "output_type": "stream",
          "name": "stdout",
          "text": [
            "Address: 12/1 North housing\n"
          ]
        }
      ]
    },
    {
      "cell_type": "code",
      "source": [
        "# write the code to substitute Java with Python from\n",
        "# Java is popular programming language\n",
        "\n",
        "\n"
      ],
      "metadata": {
        "id": "aCKmeqX4LKGj"
      },
      "execution_count": null,
      "outputs": []
    },
    {
      "cell_type": "markdown",
      "source": [
        "# Python File Handling class 13"
      ],
      "metadata": {
        "id": "r_9OLJdOWaU8"
      }
    },
    {
      "cell_type": "code",
      "source": [
        "## Creating file in write mode\n",
        "\n",
        "file = open(\"example.txt\",\"w\")\n",
        "\n",
        "## write content to the file\n",
        "file.write(\"Hello world to file\\n\")\n",
        "file.write(\"Second line\\n\")\n",
        "\n",
        "## close the file\n",
        "file.close()"
      ],
      "metadata": {
        "id": "6F02PQ6vWSzt"
      },
      "execution_count": null,
      "outputs": []
    },
    {
      "cell_type": "markdown",
      "source": [
        "Task1: Input content from console and write on file (example.txt)"
      ],
      "metadata": {
        "id": "QsrnXe7LWsl9"
      }
    },
    {
      "cell_type": "code",
      "source": [
        "# Your code here"
      ],
      "metadata": {
        "id": "L4Pp4ks2WrT7",
        "colab": {
          "base_uri": "https://localhost:8080/"
        },
        "outputId": "7dce0bd2-4cf8-4f8e-862a-3f3c1e519e1d"
      },
      "execution_count": null,
      "outputs": [
        {
          "output_type": "stream",
          "name": "stdout",
          "text": [
            "12\n"
          ]
        }
      ]
    },
    {
      "cell_type": "code",
      "source": [
        "## Open file in read mode\n",
        "file = open(\"example.txt\",\"r\")\n",
        "\n",
        "## read file content\n",
        "content = file.read()\n",
        "print(content)\n",
        "\n",
        "## close the file\n",
        "file.close()"
      ],
      "metadata": {
        "colab": {
          "base_uri": "https://localhost:8080/"
        },
        "id": "4a8BXLwpXGTn",
        "outputId": "31403aee-b68e-4810-92fe-5c35d6fbe9a5"
      },
      "execution_count": null,
      "outputs": [
        {
          "output_type": "stream",
          "name": "stdout",
          "text": [
            "Hello world to file\n",
            "Second line\n",
            "Python\n",
            "Javaa\n",
            "\n"
          ]
        }
      ]
    },
    {
      "cell_type": "code",
      "source": [
        "\n",
        "\n",
        "file = open(\"my_information.txt\",\"a\")\n",
        "my_new_input = \"\\nmy new input\"\n",
        "file.write(my_new_input)\n",
        "\n",
        "file.close()"
      ],
      "metadata": {
        "id": "yJDQjAdcYxxO"
      },
      "execution_count": null,
      "outputs": []
    },
    {
      "cell_type": "code",
      "source": [
        "#Create a file and put your address\n",
        "\n",
        "#Task: updating a the existing file adding your studied subjects"
      ],
      "metadata": {
        "id": "FiKW1iLW9d3T"
      },
      "execution_count": null,
      "outputs": []
    },
    {
      "cell_type": "code",
      "source": [
        "## Renaming\n",
        "import os\n",
        "os.rename(\"my_information.txt\",\"example2.txt\")\n",
        "\n",
        "\n"
      ],
      "metadata": {
        "id": "rYyEZo8bXVBE"
      },
      "execution_count": null,
      "outputs": []
    },
    {
      "cell_type": "code",
      "source": [
        "## Deleting\n",
        "os.remove(\"example2.txt\")"
      ],
      "metadata": {
        "id": "2dbAKUtEDrE6"
      },
      "execution_count": null,
      "outputs": []
    },
    {
      "cell_type": "code",
      "source": [
        "## Creating directory\n",
        "os.mkdir(\"foysal_directory\")\n",
        "## go to the directory\n",
        "os.chdir(\"foysal_directory\")\n"
      ],
      "metadata": {
        "id": "rjtffahUX9af"
      },
      "execution_count": null,
      "outputs": []
    },
    {
      "cell_type": "code",
      "source": [
        "file = open(\"example.txt\",\"w\")\n",
        "\n",
        "## write content to the file\n",
        "file.write(\"Hello world to file\\n\")\n",
        "file.write(\"Second line\\n\")\n",
        "\n",
        "## close the file\n",
        "file.close()"
      ],
      "metadata": {
        "id": "92FO-_xpYGAW"
      },
      "execution_count": null,
      "outputs": []
    },
    {
      "cell_type": "markdown",
      "source": [
        "Multiple task:\n",
        "1. Make a directory name `python_course`\n",
        "2. go to the directory `python_course`\n",
        "3. Create a file name `python.py`\n",
        "4. write content `print(\"Hello world\")`\n",
        "5. open the python.py file and print the content on console"
      ],
      "metadata": {
        "id": "dnAUCtVCXF8N"
      }
    },
    {
      "cell_type": "code",
      "source": [
        "# Your code here"
      ],
      "metadata": {
        "id": "JjfBJAmYYvRX"
      },
      "execution_count": null,
      "outputs": []
    },
    {
      "cell_type": "markdown",
      "source": [
        "#Python Numpy Class 16"
      ],
      "metadata": {
        "id": "SAjGBLgFF7Kx"
      }
    },
    {
      "cell_type": "markdown",
      "source": [
        "## Numpy\n",
        "\n",
        "### What is NumPy?\n",
        "- NumPy (Numerical Python) is a library used for numerical and matrix operations.\n",
        "- It provides high-performance multidimensional arrays.\n",
        "- Key Features:\n",
        "  - Supports vectorized operations (faster than loops).\n",
        "  - Ideal for mathematical and scientific computing.\n"
      ],
      "metadata": {
        "id": "ZzQXu0IJFW8X"
      }
    },
    {
      "cell_type": "markdown",
      "source": [
        "What is `module` and how to create?"
      ],
      "metadata": {
        "id": "BdlwKnrURIpg"
      }
    },
    {
      "cell_type": "code",
      "source": [
        "class foysalNumpyModule:\n",
        "  def information(name):\n",
        "    print(f\"This is {name} numpy Module function\")\n",
        "foysalNumpyModule.information(\"Abdullah\")"
      ],
      "metadata": {
        "id": "xkMlCsvBRSDk",
        "colab": {
          "base_uri": "https://localhost:8080/"
        },
        "outputId": "6cf415dc-507e-4913-e436-c82326c46859"
      },
      "execution_count": null,
      "outputs": [
        {
          "output_type": "stream",
          "name": "stdout",
          "text": [
            "This is Abdullah numpy Module function\n"
          ]
        }
      ]
    },
    {
      "cell_type": "code",
      "source": [
        "#Custom data type\n",
        "class Person:\n",
        "  def __init__(self, name, age):\n",
        "    self.name = name\n",
        "    self.age = age\n",
        "\n",
        "p1 = Person(\"John\", 36)\n",
        "p2 = Person(\"Abdullah\", 20)\n",
        "my_name = \"foysal\"\n",
        "my_value = 1\n",
        "print(type(my_value))\n",
        "print(type(my_name))\n",
        "print(type(p1))\n",
        "\n",
        "my_name_list = [Person(\"A\",11)]\n",
        "print(my_name_list[0].name)\n",
        "\n"
      ],
      "metadata": {
        "colab": {
          "base_uri": "https://localhost:8080/"
        },
        "id": "WYAmH8g00-tq",
        "outputId": "ccb13d45-3674-4eaa-ffc2-f6d582b87e9b"
      },
      "execution_count": null,
      "outputs": [
        {
          "output_type": "stream",
          "name": "stdout",
          "text": [
            "<class 'int'>\n",
            "<class 'str'>\n",
            "<class '__main__.Person'>\n",
            "A\n"
          ]
        }
      ]
    },
    {
      "cell_type": "code",
      "source": [
        "# Basic List\n",
        "my_list = [1,2,3,4]\n",
        "\n",
        "for x in my_list:\n",
        "  print(x,end=\" \")\n",
        "\n",
        "\n",
        "anik_marks = [10,20,30]\n",
        "arif_marks = [21,22,34]\n",
        "\n",
        "all_marks = [[10,20,30],\n",
        "            [21,22,34]]\n",
        "print(all_list)\n",
        "\n"
      ],
      "metadata": {
        "colab": {
          "base_uri": "https://localhost:8080/"
        },
        "id": "aTu4nWWHMj3i",
        "outputId": "69f18138-6e70-4309-b7fb-899488bf46b0"
      },
      "execution_count": null,
      "outputs": [
        {
          "output_type": "stream",
          "name": "stdout",
          "text": [
            "1 2 3 4 [[10, 20, 30], [21, 22, 34]]\n"
          ]
        }
      ]
    },
    {
      "cell_type": "code",
      "source": [
        "my_list = [10,20,30]\n",
        "\n",
        "\n",
        "for i in range(len(my_list)):\n",
        "  if i == 1:\n",
        "    print(my_list[i])\n",
        "    continue\n",
        "  print(f\"#index: {i}\")\n",
        "\n",
        "# for x in my_list:\n",
        "#   for y in x:\n",
        "#     print(y,end=\",\")"
      ],
      "metadata": {
        "id": "XAzm5vf-Rt5J",
        "colab": {
          "base_uri": "https://localhost:8080/"
        },
        "outputId": "5dc6f99e-e19b-41d3-e11a-00d47e331a2f"
      },
      "execution_count": null,
      "outputs": [
        {
          "output_type": "stream",
          "name": "stdout",
          "text": [
            "#index: 0\n",
            "20\n",
            "#index: 2\n"
          ]
        }
      ]
    },
    {
      "cell_type": "code",
      "source": [
        "## Print all the element in arr2D = [[1,2,3,4,5],[6,7,8,9,10]]"
      ],
      "metadata": {
        "id": "YoxfAC-kUy2F"
      },
      "execution_count": null,
      "outputs": []
    },
    {
      "cell_type": "markdown",
      "source": [
        "### Creating Arrays"
      ],
      "metadata": {
        "id": "f1BgNlG6FaZS"
      }
    },
    {
      "cell_type": "code",
      "source": [
        "import numpy as np\n",
        "\n",
        "## array1D\n",
        "arr1D = np.array([1,2])\n",
        "print(\"array1D:\",arr1D)\n",
        "print(\"Index 0 item: \",arr1D[0])\n",
        "\n",
        "# ##Iterate the\n",
        "print(\"arr1D iteration:\")\n",
        "for x in arr1D:\n",
        "  print(x)\n",
        "\n",
        "# ## array2D\n",
        "arr2D = np.array([[1,2,3],[4,5,6]])\n",
        "print(\"array2D:\",arr2D)\n",
        "\n"
      ],
      "metadata": {
        "colab": {
          "base_uri": "https://localhost:8080/"
        },
        "outputId": "c9bae4eb-e1d9-4195-839b-2d3b2ba53288",
        "id": "j3ie1rMYFaZS"
      },
      "execution_count": null,
      "outputs": [
        {
          "output_type": "stream",
          "name": "stdout",
          "text": [
            "array1D: [1 2]\n",
            "Index 0 item:  1\n",
            "arr1D iteration:\n",
            "1\n",
            "2\n",
            "array2D: [[1 2 3]\n",
            " [4 5 6]]\n"
          ]
        }
      ]
    },
    {
      "cell_type": "code",
      "source": [
        "#2D array in numpy\n",
        "\n",
        "#3D array in numpy"
      ],
      "metadata": {
        "id": "GDLArEenrPKc"
      },
      "execution_count": null,
      "outputs": []
    },
    {
      "cell_type": "markdown",
      "source": [
        "###ndarray"
      ],
      "metadata": {
        "id": "gHV_hxIJFaZT"
      }
    },
    {
      "cell_type": "markdown",
      "source": [
        "The `ndarray` is the core data structure of numPy. It represents multidimentional, homogeneous array of fixed sized items.\n",
        "\n",
        "Key properties:\n",
        "1. `ndim` number of dimensions\n",
        "2. `shape` Shape (size of each each dimension)\n",
        "3. `dtype` Data type of the array elements.\n"
      ],
      "metadata": {
        "id": "ppRVesKuFaZT"
      }
    },
    {
      "cell_type": "code",
      "source": [
        "# Creating an ndarray\n",
        "arr = np.array([[[1,2],\n",
        "                [2,3]\n",
        "                      ],\n",
        "\n",
        "\n",
        "\n",
        "                     [[4,5],\n",
        "                      [6,7]\n",
        "                      ]],dtype=\"float64\")\n",
        "print(\"Array:\\n: \",arr)\n",
        "print(\"3D array first index value:\",arr[0][0][0])\n",
        "\n",
        "print(\"ndim (dimension) D:\",arr.ndim)\n",
        "print(\"shape: \",arr.shape)\n",
        "print(\"Data Type:\", arr.dtype)"
      ],
      "metadata": {
        "id": "-Hjldm-hFaZT",
        "colab": {
          "base_uri": "https://localhost:8080/"
        },
        "outputId": "29adba7b-be2a-4065-96a8-3ea33e9be72e"
      },
      "execution_count": null,
      "outputs": [
        {
          "output_type": "stream",
          "name": "stdout",
          "text": [
            "Array:\n",
            ":  [[[1. 2.]\n",
            "  [2. 3.]]\n",
            "\n",
            " [[4. 5.]\n",
            "  [6. 7.]]]\n",
            "3D array first index value: 1.0\n",
            "ndim (dimension) D: 3\n",
            "shape:  (2, 2, 2)\n",
            "Data Type: float64\n"
          ]
        }
      ]
    },
    {
      "cell_type": "code",
      "source": [
        "import numpy as np\n",
        "numpy_2d_array = np.array(\n",
        "    [\n",
        "        [1,2,3,6],\n",
        "        [4,5,6,8]\n",
        "    ]\n",
        ")\n",
        "\n",
        "print(f\"dimension: {numpy_2d_array.ndim}\")\n",
        "print(f\"shape: {numpy_2d_array.shape}\")\n",
        "print(f\"data type: {numpy_2d_array.dtype}\")"
      ],
      "metadata": {
        "colab": {
          "base_uri": "https://localhost:8080/"
        },
        "id": "KYn_5wQfuyHR",
        "outputId": "6d981ac2-0509-4224-f3e8-2914ea083b9d"
      },
      "execution_count": null,
      "outputs": [
        {
          "output_type": "stream",
          "name": "stdout",
          "text": [
            "dimension: 2\n",
            "shape: (2, 4)\n",
            "data type: <U21\n"
          ]
        }
      ]
    },
    {
      "cell_type": "code",
      "source": [
        "# ndim dimension (D):\n",
        "\n",
        "arr1 = np.array([1, 2, 3, 4, 5])  # 1D array\n",
        "arr2 = np.array([[1, 2], [3, 4], [5, 6]])  # 2D array\n",
        "arr3 = np.array([[[1, 2], [3, 4]], [[5, 6], [7, 8]]])  # 3D array\n",
        "\n",
        "# Print the number of dimensions\n",
        "print(\"ndim of arr1:\", arr1.ndim)  # Output: ndim of arr1: 1\n",
        "print(\"ndim of arr2:\", arr2.ndim)  # Output: ndim of arr2: 2\n",
        "print(\"ndim of arr3:\", arr3.ndim)  # Output: ndim of arr3: 3"
      ],
      "metadata": {
        "colab": {
          "base_uri": "https://localhost:8080/"
        },
        "id": "NVBE5nRUMgtU",
        "outputId": "dfa213fb-cde5-47ae-dac0-a57828b40787"
      },
      "execution_count": null,
      "outputs": [
        {
          "output_type": "stream",
          "name": "stdout",
          "text": [
            "ndim of arr1: 1\n",
            "ndim of arr2: 2\n",
            "ndim of arr3: 3\n"
          ]
        }
      ]
    },
    {
      "cell_type": "code",
      "source": [
        "## Shape (row x column)\n",
        "\n",
        "# 1D array\n",
        "arr1 = np.array([1,\n",
        "                 2,\n",
        "                 3,\n",
        "                 4,\n",
        "                 5])\n",
        "print(\"Shape of arr1:\", arr1.shape)  # Output: (5,)\n",
        "\n",
        "# 2D array\n",
        "arr2 = np.array([[1, 2],\n",
        "                 [3, 4],\n",
        "                 [5, 6]])\n",
        "print(\"Shape of arr2:\", arr2.shape)  # Output: (3, 2)\n",
        "\n",
        "# 3D array\n",
        "arr3 = np.array([[[1, 2,3], [3, 4,5]], [[5, 6,7], [7, 8,9]]])\n",
        "print(\"Shape of arr3:\", arr3.shape)  # Output: (2, 2, 2)\n"
      ],
      "metadata": {
        "colab": {
          "base_uri": "https://localhost:8080/"
        },
        "id": "hj-o3YiHLkOs",
        "outputId": "c6253daa-a4cd-4748-ca38-4df613336eba"
      },
      "execution_count": null,
      "outputs": [
        {
          "output_type": "stream",
          "name": "stdout",
          "text": [
            "Shape of arr1: (5,)\n",
            "Shape of arr2: (3, 2)\n",
            "Shape of arr3: (2, 2, 3)\n"
          ]
        }
      ]
    },
    {
      "cell_type": "markdown",
      "source": [
        "Task 1: print the below ndarray items"
      ],
      "metadata": {
        "id": "37dyJUljNpCX"
      }
    },
    {
      "cell_type": "code",
      "source": [
        "#Print 1D array sample\n",
        "import numpy as np\n",
        "arr1D = np.array([1,2,3,4,5])\n",
        "\n",
        "for x in arr1D:\n",
        "    print(x,end=\" \")\n"
      ],
      "metadata": {
        "colab": {
          "base_uri": "https://localhost:8080/"
        },
        "id": "7vp0_vdLN1AP",
        "outputId": "92cc16ba-065a-4e05-8ab0-ecc20ef43dcc"
      },
      "execution_count": null,
      "outputs": [
        {
          "output_type": "stream",
          "name": "stdout",
          "text": [
            "1 2 3 4 5 "
          ]
        }
      ]
    },
    {
      "cell_type": "code",
      "source": [
        "# print 2D array\n",
        "#arr2D = [[1,2,3],[4,5,6]]\n"
      ],
      "metadata": {
        "colab": {
          "base_uri": "https://localhost:8080/"
        },
        "id": "QLLxC8RGN8Cf",
        "outputId": "e5fc1562-acb2-4260-e7cf-de94b52a1781"
      },
      "execution_count": null,
      "outputs": [
        {
          "output_type": "stream",
          "name": "stdout",
          "text": [
            "1 2 3 4 5 6 "
          ]
        }
      ]
    },
    {
      "cell_type": "code",
      "source": [
        "  # print 3D array\n",
        "  #arr3D = [[[1,2],[3,4]],[[5,6],[7,8]]]\n",
        "\n"
      ],
      "metadata": {
        "colab": {
          "base_uri": "https://localhost:8080/"
        },
        "id": "drheMHnLOwrH",
        "outputId": "be0403d5-c576-4ee4-fbf6-131df103bdd6"
      },
      "execution_count": null,
      "outputs": [
        {
          "output_type": "stream",
          "name": "stdout",
          "text": [
            "1 2 3 4 5 6 7 8 "
          ]
        }
      ]
    },
    {
      "cell_type": "markdown",
      "source": [
        "Data Type Objects (dtype)\n",
        "The `dtype` object specifies the type of data stored in an array (e.g int, float)\n",
        "\n",
        "Key Features:\n",
        "1. Allow custom data types\n",
        "2. Supports advanced types like complex numbers and fixed-length string"
      ],
      "metadata": {
        "id": "Icb4mqkSUvpi"
      }
    },
    {
      "cell_type": "code",
      "source": [
        "# Array with default integer dtype\n",
        "arr =np.array([1,2,3])\n",
        "print(\"Default dtype\",arr.dtype)\n",
        "\n",
        "# Array with custom dtype\n",
        "arr_float = np.array([1,2,3],dtype=\"float64\")\n",
        "print(\"Custom dtype\",arr_float.dtype)\n",
        "\n",
        "# Complex dtype\n",
        "arr_complex = np.array([1+2j,3+4j])\n",
        "print(\"Complex dtype:\", arr_complex.dtype)"
      ],
      "metadata": {
        "colab": {
          "base_uri": "https://localhost:8080/"
        },
        "id": "pTrxCHWuUvP8",
        "outputId": "6489b4f2-d514-4515-bb91-c6bba780e57d"
      },
      "execution_count": null,
      "outputs": [
        {
          "output_type": "stream",
          "name": "stdout",
          "text": [
            "Default dtype int64\n",
            "Custom dtype float64\n",
            "Complex dtype: complex128\n"
          ]
        }
      ]
    },
    {
      "cell_type": "markdown",
      "source": [
        "Advanced custom class\n",
        " object Example(Object Type)"
      ],
      "metadata": {
        "id": "lvjzt-5yXEdk"
      }
    },
    {
      "cell_type": "code",
      "source": [
        "my_int: int = 5\n",
        "\n",
        "class Person():\n",
        "  def __init__(self,name,age):\n",
        "    self.name = name\n",
        "    self.age = age\n",
        "\n",
        "\n",
        "arr = np.array([person1,person1],dtype=\"object\")\n",
        "# print(\"print first item :\",arr[0].name)\n",
        "# print(\"dtype: \",arr.dtype)\n",
        "# print(\"Shape :\",arr.shape)\n",
        "# print(\"dimension D: \",arr.ndim)\n"
      ],
      "metadata": {
        "id": "e1LgDNg2XMy8"
      },
      "execution_count": null,
      "outputs": []
    },
    {
      "cell_type": "markdown",
      "source": [
        "Considerations:\n",
        "1. Performance: numpy is not optimized like numerical data(int,float,bool).\n",
        "2. Compatibility: Not all NumPy operations are applicable to object arrays, as they depend on the type of objects stored.\n",
        "3. Memory Use: Object arrays can be memory-intensive because they store Python objects, unlike homogeneous arrays.\n"
      ],
      "metadata": {
        "id": "sUWkre5Ha8Hp"
      }
    },
    {
      "cell_type": "markdown",
      "source": [
        "### Array Operations\n"
      ],
      "metadata": {
        "id": "2lA8CVztcCz5"
      }
    },
    {
      "cell_type": "code",
      "source": [
        "arr = np.array([1,2,3,4])\n",
        "arr2 = np.array([5,6,7,8])\n",
        "\n",
        "# scaler operations\n",
        "print(\"Array + 10:\", arr + 10)\n",
        "print(\"Array * 2:\", arr * 2)\n",
        "\n",
        "# Mathematical operations\n",
        "print(\"Sum of Arr elements:\", arr.sum())\n",
        "print(\"Mean of Arr elements:\",arr.mean())\n",
        "print(\"Max of Arr elements:\",arr.max())\n",
        "print(\"Min of Arr elements:\",arr.min())\n",
        "\n",
        "# Element-wise operations\n",
        "print(\"Addition:\",arr+arr2)\n",
        "print(\"Mutiplication (element x element):\",arr*arr2)"
      ],
      "metadata": {
        "colab": {
          "base_uri": "https://localhost:8080/"
        },
        "id": "K2KU5ERfXu3Z",
        "outputId": "2c490cff-b540-4262-ce39-779e4e328732"
      },
      "execution_count": null,
      "outputs": [
        {
          "output_type": "stream",
          "name": "stdout",
          "text": [
            "Array + 10: [11 12 13 14]\n",
            "Array * 2: [2 4 6 8]\n",
            "Sum of Arr elements: 10\n",
            "Mean of Arr elements: 2.5\n",
            "Max of Arr elements: 4\n",
            "Min of Arr elements: 1\n",
            "Addition: [ 6  8 10 12]\n",
            "Mutiplication (element x element): [ 5 12 21 32]\n"
          ]
        }
      ]
    },
    {
      "cell_type": "markdown",
      "source": [
        "#### Binary Opearator"
      ],
      "metadata": {
        "id": "SKQXCK8vZHvh"
      }
    },
    {
      "cell_type": "code",
      "source": [
        "a = np.array([1, 2, 3])\n",
        "b = np.array([4, 5, 6])\n",
        "\n",
        "# Binary arithmetic\n",
        "print(\"Addition:\", np.add(a, b))         # [5 7 9]\n",
        "print(\"Subtraction:\", np.subtract(a, b))  # [-3 -3 -3]\n",
        "print(\"Multiplication:\", np.multiply(a, b))  # [4 10 18]\n",
        "print(\"Division:\", np.divide(a, b))       # [0.25 0.4  0.5]\n",
        "print(\"Power:\", np.power(a, b))           # [1 32 729]\n"
      ],
      "metadata": {
        "colab": {
          "base_uri": "https://localhost:8080/"
        },
        "id": "tFrQsBhwZShW",
        "outputId": "6856131b-c7c5-4b52-be73-d9c5e0c49406"
      },
      "execution_count": null,
      "outputs": [
        {
          "output_type": "stream",
          "name": "stdout",
          "text": [
            "Addition: [5 7 9]\n",
            "Addition: [5 7 9]\n",
            "Subtraction: [-3 -3 -3]\n",
            "Multiplication: [ 4 10 18]\n",
            "Division: [0.25 0.4  0.5 ]\n",
            "Power: [  1  32 729]\n"
          ]
        }
      ]
    },
    {
      "cell_type": "markdown",
      "source": [
        "#### Exercise Task\n",
        "1. Create a NumPy array of numbers from 1 to 10.\n",
        "2. Multiply every element by 3.\n",
        "3. Find the mean and maximum of the array."
      ],
      "metadata": {
        "id": "_4SOstTZLHm8"
      }
    },
    {
      "cell_type": "code",
      "source": [
        "# Your code here"
      ],
      "metadata": {
        "id": "TSHs-LYaLLTJ",
        "colab": {
          "base_uri": "https://localhost:8080/"
        },
        "outputId": "5637d2e3-dbe1-4d04-f522-57a9876eff9b"
      },
      "execution_count": null,
      "outputs": [
        {
          "output_type": "stream",
          "name": "stdout",
          "text": [
            "[1 2 3 4 5 6 7 8 9]\n"
          ]
        }
      ]
    },
    {
      "cell_type": "markdown",
      "source": [
        "### Array slicing"
      ],
      "metadata": {
        "id": "q-vHbvCcgoDg"
      }
    },
    {
      "cell_type": "code",
      "source": [
        "arr = np.array([10,20,30,40,50])\n",
        "print(\"Original Array:\",arr)\n",
        "\n",
        "# Accessing elements\n",
        "print(\"First element:\",arr[0])\n",
        "print(\"Last Element: \",arr[-1])\n",
        "\n",
        "#Slicing [first parameter included,second not include ]\n",
        "print(\"First 3 Elements\",arr[1:])\n",
        "print(\"Last 2 Elements:\",arr[-2:])\n",
        "print(\"Sum of all elements:\",arr[:].sum())"
      ],
      "metadata": {
        "colab": {
          "base_uri": "https://localhost:8080/"
        },
        "id": "rSdDruLRgvsR",
        "outputId": "02589380-4aca-43e0-8d8f-bd6f4cf1e8a1"
      },
      "execution_count": null,
      "outputs": [
        {
          "output_type": "stream",
          "name": "stdout",
          "text": [
            "Original Array: [10 20 30 40 50]\n",
            "First element: 10\n",
            "Last Element:  50\n",
            "First 3 Elements [20 30 40 50]\n",
            "Last 2 Elements: [40 50]\n",
            "Sum of all elements: 150\n"
          ]
        }
      ]
    },
    {
      "cell_type": "code",
      "source": [
        "#Task:\n",
        "arr = np.array([1,2,3,4,5])\n",
        "\n",
        "#Access the last item of the array\n",
        "\n",
        "#Calculate the max of the array\n",
        "\n",
        "#Sum of first 3 elements\n"
      ],
      "metadata": {
        "id": "du8UwZC8qZPC"
      },
      "execution_count": null,
      "outputs": []
    },
    {
      "cell_type": "code",
      "source": [
        "import numpy as np\n",
        "\n",
        "# Create a 2D array\n",
        "arr2d = np.array([[1, 2, 3],\n",
        "                  [4, 5, 6],\n",
        "                  [7, 8, 9]])\n",
        "\n",
        "print(\"Original 2D Array:\")\n",
        "print(arr2d)\n",
        "\n",
        "# Accessing specific elements\n",
        "print(\"Element at (row,colum) (1,2):\",arr2d[1,2])\n",
        "print(\"Last row Last colum index value:\",arr2d[-1,-1])\n",
        "\n",
        "# Slicing rows\n",
        "print(\"First 2 row: \",arr2d[:2])\n",
        "\n",
        "# Acess the first column sum\n",
        "print(\"first column all values:\", arr2d[:,1])\n"
      ],
      "metadata": {
        "colab": {
          "base_uri": "https://localhost:8080/"
        },
        "id": "UhqU3UQ1qSf1",
        "outputId": "74e5f2e8-cc3f-45fe-eeda-3fef324a3b1e"
      },
      "execution_count": null,
      "outputs": [
        {
          "output_type": "stream",
          "name": "stdout",
          "text": [
            "Original 2D Array:\n",
            "[[1 2 3]\n",
            " [4 5 6]\n",
            " [7 8 9]]\n",
            "Element at (row,colum) (1,2): 6\n",
            "Last row Last colum index value: 9\n",
            "First 2 row:  [[1 2 3]\n",
            " [4 5 6]]\n",
            "first column all values: [2 5 8]\n"
          ]
        }
      ]
    },
    {
      "cell_type": "markdown",
      "source": [
        "#### Task 1: Prepare ndArray\n",
        "    subjects:  [Bangla,English,Math,Physics]\n",
        "0. Anik= [60,60,80,100]\n",
        "1. Raju= [40,80,90,60]"
      ],
      "metadata": {
        "id": "crpzAWS7tl03"
      }
    },
    {
      "cell_type": "code",
      "source": [
        "# create the numpy array from the above data.\n",
        "# Your code\n"
      ],
      "metadata": {
        "id": "VrWPbDAWvLHq"
      },
      "execution_count": null,
      "outputs": []
    },
    {
      "cell_type": "markdown",
      "source": [
        "#### Task 2: Find the maximum number among all subject"
      ],
      "metadata": {
        "id": "ovyqQthrvuyf"
      }
    },
    {
      "cell_type": "code",
      "source": [
        "# Your code here"
      ],
      "metadata": {
        "colab": {
          "base_uri": "https://localhost:8080/"
        },
        "id": "fPChD2U5vITJ",
        "outputId": "f5ff7a8e-644c-4d81-b938-40daee08b434"
      },
      "execution_count": null,
      "outputs": [
        {
          "output_type": "stream",
          "name": "stdout",
          "text": [
            "Max:  100\n"
          ]
        }
      ]
    },
    {
      "cell_type": "markdown",
      "source": [
        "#### Task 3: Anik Total number(sum)"
      ],
      "metadata": {
        "id": "LO2PMzDTwxWH"
      }
    },
    {
      "cell_type": "code",
      "source": [
        "# Your code here\n"
      ],
      "metadata": {
        "colab": {
          "base_uri": "https://localhost:8080/"
        },
        "id": "eCuVMdX4xOAy",
        "outputId": "e8f6e9d8-ce7f-467c-8f20-6ca91a9c7c0a"
      },
      "execution_count": null,
      "outputs": [
        {
          "output_type": "stream",
          "name": "stdout",
          "text": [
            "Anik total number: 300\n"
          ]
        }
      ]
    },
    {
      "cell_type": "markdown",
      "source": [
        "#### Task 4: Find the total number in English\n"
      ],
      "metadata": {
        "id": "7Bn5Fs_XGX_o"
      }
    },
    {
      "cell_type": "code",
      "source": [
        "# Your code here\n",
        "print(\"tolal number in english:\",arr[:,1].sum())"
      ],
      "metadata": {
        "colab": {
          "base_uri": "https://localhost:8080/"
        },
        "id": "1kTa8e3BGhLl",
        "outputId": "a316361f-7401-45c7-ffaf-123d133c717b"
      },
      "execution_count": null,
      "outputs": [
        {
          "output_type": "stream",
          "name": "stdout",
          "text": [
            "tolal number in english: 140\n"
          ]
        }
      ]
    },
    {
      "cell_type": "markdown",
      "source": [
        "### Advanced Indexing\n",
        " Advanced Indexing in NumPy allows you to perform complex operations on arrays that go beyond basic slicing and indexing. You can use techniques such as:\n",
        "\n",
        "- Fancy indexing (integer arrays)\n",
        "- Boolean indexing (masking)"
      ],
      "metadata": {
        "id": "gH_AIWVHn3HT"
      }
    },
    {
      "cell_type": "code",
      "source": [
        "arr = np.array([\n",
        " [10,20],\n",
        " [30,40],\n",
        " [50,60]\n",
        " ])\n",
        "\n",
        "print(arr.ndim)\n",
        "print(arr.shape)"
      ],
      "metadata": {
        "colab": {
          "base_uri": "https://localhost:8080/"
        },
        "id": "GvT_L9g0n8Cu",
        "outputId": "f76f0ee8-c0cb-4407-9365-9310eacbdc3d"
      },
      "execution_count": null,
      "outputs": [
        {
          "output_type": "stream",
          "name": "stdout",
          "text": [
            "2\n",
            "(3, 2)\n"
          ]
        }
      ]
    },
    {
      "cell_type": "code",
      "source": [
        "# Fancy indexing\n",
        "arr = np.arange(1,10)\n",
        "print(\"Before Modified array:\",arr)\n",
        "indices_to_update = [1,2,3,8]\n",
        "arr[indices_to_update] = 99\n",
        "\n",
        "print(\"Modified array:\",arr)\n"
      ],
      "metadata": {
        "colab": {
          "base_uri": "https://localhost:8080/"
        },
        "id": "7kEy5sy6KSFc",
        "outputId": "0e21fbae-fbcb-42ab-bdd1-c2db0e012a6a"
      },
      "execution_count": null,
      "outputs": [
        {
          "output_type": "stream",
          "name": "stdout",
          "text": [
            "Before Modified array: [1 2 3 4 5 6 7 8 9]\n",
            "Modified array: [ 1 99 99 99  5  6  7  8 99]\n"
          ]
        }
      ]
    },
    {
      "cell_type": "code",
      "source": [
        "# Boolean indexing\n",
        "arr = np.arange(1,10)\n",
        "print(arr)\n",
        "mask = arr > 5\n",
        "print(\"Mask: \",mask)\n",
        "print(\"Boolean Masking: \", arr[arr > 5])"
      ],
      "metadata": {
        "colab": {
          "base_uri": "https://localhost:8080/"
        },
        "id": "iIclfHpcI0o7",
        "outputId": "982856f8-6423-4124-9372-80120569fe3f"
      },
      "execution_count": null,
      "outputs": [
        {
          "output_type": "stream",
          "name": "stdout",
          "text": [
            "[1 2 3 4 5 6 7 8 9]\n",
            "Mask:  [False False False False False  True  True  True  True]\n",
            "Boolean Masking:  [6 7 8 9]\n"
          ]
        }
      ]
    },
    {
      "cell_type": "markdown",
      "source": [
        "### Iterating Over Arrays\n",
        "You can iterate over an ndarray using Python loops. For multidimensional arrays:\n",
        "1. Iterate row by row.\n",
        "2. Use `nditer` for element-wise iteration."
      ],
      "metadata": {
        "id": "Uz-_bu6FL_Gd"
      }
    },
    {
      "cell_type": "code",
      "source": [
        "\n",
        "arr = np.array([[1,2,3],[4,5,6]])\n",
        "#Row by row iteration\n",
        "for row in arr:\n",
        "  print(\"row: \",row)\n",
        "\n",
        "#Row by row iteration\n",
        "for element in np.nditer(arr):\n",
        "  print(\"Element: \",element)\n",
        "\n"
      ],
      "metadata": {
        "colab": {
          "base_uri": "https://localhost:8080/"
        },
        "id": "qF03QaZiMFY0",
        "outputId": "20eee819-101d-4b7c-c312-a920b6b12eb6"
      },
      "execution_count": null,
      "outputs": [
        {
          "output_type": "stream",
          "name": "stdout",
          "text": [
            "row:  [1 2 3]\n",
            "row:  [4 5 6]\n",
            "Element:  1\n",
            "Element:  2\n",
            "Element:  3\n",
            "Element:  4\n",
            "Element:  5\n",
            "Element:  6\n"
          ]
        }
      ]
    },
    {
      "cell_type": "markdown",
      "source": [
        "### Linear Algebra\n",
        "NumPy provides linear algebra functions like dot products, matrix multiplication, and determinants."
      ],
      "metadata": {
        "id": "0A1-offKNEmE"
      }
    },
    {
      "cell_type": "code",
      "source": [
        "arr1 = np.array([[1,2],[3,4]],dtype=\"float64\")\n",
        "arr2 = np.array([[5,6],[7,8]],dtype=\"float64\")\n",
        "print(\"Arr1: \",arr1)\n",
        "print(\"Arr2: \",arr2)\n",
        "\n",
        "# Dot product\n",
        "dot_product = np.dot(arr1,arr2)\n",
        "print(\"Dot\\n\",dot_product)\n",
        "\n",
        "#Trasnpose\n",
        "print(\"Transepose\\n\",dot_product.T)\n",
        "\n",
        "#Determinant calculation(linearalgebra(linalg))\n",
        "print(\"Determinant\", np.linalg.det(dot_product))\n"
      ],
      "metadata": {
        "colab": {
          "base_uri": "https://localhost:8080/"
        },
        "id": "zSKXfedwNKIj",
        "outputId": "e94e7daa-ef2e-4ff9-d854-2d70f903b77d"
      },
      "execution_count": null,
      "outputs": [
        {
          "output_type": "stream",
          "name": "stdout",
          "text": [
            "Arr1:  [[1. 2.]\n",
            " [3. 4.]]\n",
            "Arr2:  [[5. 6.]\n",
            " [7. 8.]]\n",
            "Dot\n",
            " [[19. 22.]\n",
            " [43. 50.]]\n",
            "Transepose\n",
            " [[19. 43.]\n",
            " [22. 50.]]\n",
            "Determinant 4.000000000000008\n"
          ]
        }
      ]
    },
    {
      "cell_type": "markdown",
      "source": [
        "### Sorting, Searching, and Counting\n",
        "NumPy provides functions to sort arrays, search for values, and count elements."
      ],
      "metadata": {
        "id": "-BiJi17jPesy"
      }
    },
    {
      "cell_type": "code",
      "source": [
        "arr = np.array([3,1,4,1,5,7,10])\n",
        "\n",
        "#Sorting\n",
        "print(\"Sorting array\",np.sort(arr))\n",
        "\n",
        "# Searching\n",
        "print(\"Index of value(1): \",np.where(arr==1))\n",
        "\n",
        "# Counting\n",
        "print(\"Count of 1s:\",np.count_nonzero(arr==1))\n"
      ],
      "metadata": {
        "colab": {
          "base_uri": "https://localhost:8080/"
        },
        "id": "axgF9O9MPg2y",
        "outputId": "451e967c-0420-41b2-9865-6223d6aa995e"
      },
      "execution_count": null,
      "outputs": [
        {
          "output_type": "stream",
          "name": "stdout",
          "text": [
            "Sorting array [ 1  1  3  4  5  7 10]\n",
            "Index of value(1):  (array([1, 3]),)\n",
            "Count of 1s: 2\n"
          ]
        }
      ]
    },
    {
      "cell_type": "markdown",
      "source": [
        "#### Exercise\n",
        "1. Create a 2D NumPy array of random integers between 1 and 50.\n",
        "2. Perform the following:\n",
        "   - Find the mean of all elements.\n",
        "   - Transpose the array.\n",
        "   - Sort the array along rows.\n",
        "   - Extract all elements greater than 25.\n",
        "3. Perform matrix multiplication between the original and transposed array.\n"
      ],
      "metadata": {
        "id": "NnhNV0vxTszj"
      }
    },
    {
      "cell_type": "code",
      "source": [
        "# Account create\n",
        "#https://github.com/login\n",
        "#https://www.upwork.com/\n",
        "#https://www.linkedin.com/\n",
        "# cv template\n",
        "#https://www.linkedin.com/in/abdullahfoysal/"
      ],
      "metadata": {
        "id": "2lCNiTo2T8RX",
        "colab": {
          "base_uri": "https://localhost:8080/"
        },
        "outputId": "7f350f31-2d51-4f4b-a7df-19c4019aa8d8"
      },
      "execution_count": null,
      "outputs": [
        {
          "output_type": "stream",
          "name": "stdout",
          "text": [
            "[[ 6 46  9]\n",
            " [31 29 37]\n",
            " [45 44 24]]\n",
            "[[ 6  9 46]\n",
            " [29 31 37]\n",
            " [24 44 45]]\n",
            "[46 31 29 37 45 44]\n"
          ]
        }
      ]
    },
    {
      "cell_type": "markdown",
      "source": [
        "#Python Pandas Class 17\n"
      ],
      "metadata": {
        "id": "gAO16tGaKLlx"
      }
    },
    {
      "cell_type": "markdown",
      "source": [
        "### What is Pandas?\n",
        "- Pandas is a Python library used for data manipulation and analysis.\n",
        "- Core data structures:\n",
        "  - **Series**: A one-dimensional array with labels.\n",
        "  - **DataFrame**: A two-dimensional labeled table.\n",
        "- Key Features:\n",
        "  - Import/export data (CSV, Excel, JSON, SQL).\n",
        "  - Data cleaning, filtering, and transformation.\n",
        "  - Grouping and aggregation.\n",
        "  - High-performance operations on data."
      ],
      "metadata": {
        "id": "gDBOoJylR5z0"
      }
    },
    {
      "cell_type": "markdown",
      "source": [
        "##Creating a Pandas Series"
      ],
      "metadata": {
        "id": "cem-l5trWH2U"
      }
    },
    {
      "cell_type": "code",
      "source": [
        "import pandas as pd\n",
        "# Series A 1D array with label\n",
        "# Create a Series\n",
        "\n",
        "labels = ['alif', 'hasan', 'jahid', 'manik']\n",
        "data = [10, 20, 30, 40]\n",
        "series = pd.Series(data, index=labels)\n",
        "\n",
        "# Display the Series\n",
        "print(series)\n",
        "\n",
        "#accessing data in the series\n",
        "print(\"\\nValue at label 'alif':\",series['alif'])\n",
        "\n",
        "#Modify a value\n",
        "# add 5 on lable manik\n",
        "series[\"manik\"] +=5\n",
        "print(\"\\nUpdated Series:\")\n",
        "print(series)\n",
        "\n",
        "#perform operation\n",
        "# print all the value greater than or equal 30\n",
        "print(\"\\nValues greater than or equal to 30:\\n\",series[series>=30])\n"
      ],
      "metadata": {
        "colab": {
          "base_uri": "https://localhost:8080/"
        },
        "id": "a1pXCfVYKfxt",
        "outputId": "3c1aeb11-cc14-43be-9b2a-885d5d08c215"
      },
      "execution_count": null,
      "outputs": [
        {
          "output_type": "stream",
          "name": "stdout",
          "text": [
            "alif     10\n",
            "hasan    20\n",
            "jahid    30\n",
            "manik    40\n",
            "dtype: int64\n",
            "\n",
            "Value at label 'alif': 10\n",
            "\n",
            "Updated Series:\n",
            "alif     10\n",
            "hasan    20\n",
            "jahid    30\n",
            "manik    45\n",
            "dtype: int64\n",
            "\n",
            "Values greater than or equal to 30:\n",
            " jahid    30\n",
            "manik    45\n",
            "dtype: int64\n"
          ]
        }
      ]
    },
    {
      "cell_type": "markdown",
      "source": [
        "#### Task 1: Create a `Series` marks for your exam(ban,eng,math) And print the series"
      ],
      "metadata": {
        "id": "H6EgWoyyVYTW"
      }
    },
    {
      "cell_type": "code",
      "source": [],
      "metadata": {
        "id": "_FLntmt-WFPu"
      },
      "execution_count": null,
      "outputs": []
    },
    {
      "cell_type": "markdown",
      "source": [
        "##Creating a Pandas DataFrame\n"
      ],
      "metadata": {
        "id": "gde1Ci_BV6rG"
      }
    },
    {
      "cell_type": "code",
      "source": [
        "# Creating a Dataframe from a dictionary\n",
        "data = {\"Name\": [\"Alice\",\"Bob\",\"Charlie\"],\n",
        "        \"Age\": [25,30, 40],\n",
        "        \"City\": [\"Dhaka\",\"London\",\"Berlin\"]\n",
        "        }\n",
        "df = pd.DataFrame(data)\n",
        "print(\"DataFrame From Dictionary:\\n\",df)\n",
        "\n",
        "# Creating a DataFrame from a list of lists:\n",
        "data = [[\"Alice\",25,\"Dhaka\",80],\n",
        "        [\"Bob\",15,\"London\",60],\n",
        "        [\"Charlie\",35,\"Dhaka\",65]]\n",
        "labels = [\"Name\", \"Age\",\"City\",\"Marks\"]\n",
        "\n",
        "df = pd.DataFrame(data,columns= labels)\n",
        "print(\"\\nDataFrame from List\\n\",df)\n",
        "\n",
        "## Check the data types\n",
        "print(\"\\nData Types:\\n:\",df.dtypes)"
      ],
      "metadata": {
        "colab": {
          "base_uri": "https://localhost:8080/"
        },
        "id": "PyyHTluyVumB",
        "outputId": "e831db21-0e27-4fd0-8103-ae36d4267c34"
      },
      "execution_count": null,
      "outputs": [
        {
          "output_type": "stream",
          "name": "stdout",
          "text": [
            "DataFrame From Dictionary:\n",
            "       Name  Age    City\n",
            "0    Alice   25   Dhaka\n",
            "1      Bob   30  London\n",
            "2  Charlie   40  Berlin\n",
            "\n",
            "DataFrame from List\n",
            "       Name  Age    City  Marks\n",
            "0    Alice   25   Dhaka     80\n",
            "1      Bob   15  London     60\n",
            "2  Charlie   35   Dhaka     65\n",
            "\n",
            "Data Types:\n",
            ": Name     object\n",
            "Age       int64\n",
            "City     object\n",
            "Marks     int64\n",
            "dtype: object\n"
          ]
        }
      ]
    },
    {
      "cell_type": "markdown",
      "source": [
        "### Dealing with Rows and Columns"
      ],
      "metadata": {
        "id": "9tsvxuipZAhS"
      }
    },
    {
      "cell_type": "code",
      "source": [
        "# Adding a new column\n",
        "df[\"Salary\"]=[5000,30000,500000]\n",
        "print(\"\\nAfter Adding Salary column:\\n\",df)\n",
        "\n",
        "#Renaming a column\n",
        "df.rename(columns={\"Salary\":\"Income\"},inplace=True)\n",
        "print(\"\\nAfter Renaming Colum:\\n\",df)\n",
        "\n",
        "#Dropping a row\n",
        "df_dropped =df.drop(index=1)\n",
        "print(\"\\nAfter Dropping Row:\\n\",df_dropped)\n",
        "\n",
        "#Dropping a column Marks\n",
        "df_dropped_column = df_dropped.drop(columns=[\"Marks\"])\n",
        "print(\"\\nAfter Dropping a column\\n\",df_dropped_column)\n",
        "\n",
        "#Resetting the index\n",
        "df_reset = df_dropped_column.reset_index(drop=True)\n",
        "print(\"\\nAfter resetting Index:\\n\", df_reset)"
      ],
      "metadata": {
        "colab": {
          "base_uri": "https://localhost:8080/"
        },
        "id": "U0WpCNRiZENO",
        "outputId": "6286c541-1416-432d-f05a-d8ba8e7ff625"
      },
      "execution_count": null,
      "outputs": [
        {
          "output_type": "stream",
          "name": "stdout",
          "text": [
            "\n",
            "After Adding Salary column:\n",
            "       Name  Age    City  Marks  Salary\n",
            "0    Alice   25   Dhaka     80    5000\n",
            "1      Bob   15  London     60   30000\n",
            "2  Charlie   35   Dhaka     65  500000\n",
            "\n",
            "After Renaming Colum:\n",
            "       Name  Age    City  Marks  Income\n",
            "0    Alice   25   Dhaka     80    5000\n",
            "1      Bob   15  London     60   30000\n",
            "2  Charlie   35   Dhaka     65  500000\n",
            "\n",
            "After Dropping Row:\n",
            "       Name  Age   City  Marks  Income\n",
            "0    Alice   25  Dhaka     80    5000\n",
            "2  Charlie   35  Dhaka     65  500000\n",
            "\n",
            "After Dropping a column\n",
            "       Name  Age   City  Income\n",
            "0    Alice   25  Dhaka    5000\n",
            "2  Charlie   35  Dhaka  500000\n",
            "\n",
            "After resetting Index:\n",
            "       Name  Age   City  Income\n",
            "0    Alice   25  Dhaka    5000\n",
            "1  Charlie   35  Dhaka  500000\n"
          ]
        }
      ]
    },
    {
      "cell_type": "markdown",
      "source": [
        "### Indexing and selectiong Data"
      ],
      "metadata": {
        "id": "nIkXtMNRhLk7"
      }
    },
    {
      "cell_type": "code",
      "source": [
        "#Select multiple rows iloc => i -> integer , loc= location\n",
        "print(\"\\nSelecting Rows by Index:\\n\",df.iloc[:2]) # first two rows [Excluded]\n",
        "\n",
        "# Select rows with labels\n",
        "print(\"\\nSelecting Rows by Label:\\n\",df.loc[:2,[\"Name\",\"Income\"]]) #index included\n",
        "\n"
      ],
      "metadata": {
        "id": "I1ZYgYzmhRyG",
        "colab": {
          "base_uri": "https://localhost:8080/"
        },
        "outputId": "0874f727-700e-48e0-d611-ebc0ac793e7a"
      },
      "execution_count": null,
      "outputs": [
        {
          "output_type": "stream",
          "name": "stdout",
          "text": [
            "\n",
            "Selecting Rows by Index:\n",
            "     Name  Age    City  Marks  Income\n",
            "0  Alice   25   Dhaka     80    5000\n",
            "1    Bob   15  London     60   30000\n",
            "\n",
            "Selecting Rows by Label:\n",
            "       Name  Income\n",
            "0    Alice    5000\n",
            "1      Bob   30000\n",
            "2  Charlie  500000\n"
          ]
        }
      ]
    },
    {
      "cell_type": "markdown",
      "source": [
        "### Boolean Indexing"
      ],
      "metadata": {
        "id": "f6oROcDekDmM"
      }
    },
    {
      "cell_type": "code",
      "source": [
        "# Filter rows where Age > 25\n",
        "filtered = df[df[\"Age\"] > 25]\n",
        "print(\"Filtered Rows:\\n\", filtered)\n",
        "\n",
        "# Multiple conditions\n",
        "filtered = df[(df[\"Age\"] > 25) & (df[\"City\"] == \"Dhaka\")]\n",
        "print(\"\\nFiltered Rows with Multiple Conditions:\\n\", filtered)"
      ],
      "metadata": {
        "colab": {
          "base_uri": "https://localhost:8080/"
        },
        "id": "VNMGWZE9kGT3",
        "outputId": "62be25aa-63db-4437-808c-027592501d1a"
      },
      "execution_count": null,
      "outputs": [
        {
          "output_type": "stream",
          "name": "stdout",
          "text": [
            "Filtered Rows:\n",
            "       Name  Age   City  Marks  Income\n",
            "2  Charlie   35  Dhaka     65  500000\n",
            "\n",
            "Filtered Rows with Multiple Conditions:\n",
            "       Name  Age   City  Marks  Income\n",
            "2  Charlie   35  Dhaka     65  500000\n"
          ]
        }
      ]
    },
    {
      "cell_type": "markdown",
      "source": [
        "### Working with misssing Data"
      ],
      "metadata": {
        "id": "DuMyvXMHlyBx"
      }
    },
    {
      "cell_type": "code",
      "source": [
        "# Handling missing data\n",
        "data = {\"Name\": [\"Alice\",None,\"Charlie\"],\n",
        "        \"Age\": [25,30, None],\n",
        "        }\n",
        "df = pd.DataFrame(data)\n",
        "\n",
        "print(\"Dataframe: \\n\",df)\n",
        "\n",
        "#Identify missing values\n",
        "print(\"Missing Data:\\n:\",df.isnull())\n",
        "\n",
        "#Fill missing values\n",
        "df_filled =df.fillna({\"Name\": \"Unknown\",\"Age\":df[\"Age\"].mean()})\n",
        "print(\"\\nAfter Filling Missing Dta:\\n\",df_filled)\n",
        "\n",
        "#Drop row with missing values\n",
        "df_dropped =df.dropna()\n",
        "print(\"\\nAfter Dropping missing Values\\n\",df_dropped)\n"
      ],
      "metadata": {
        "colab": {
          "base_uri": "https://localhost:8080/"
        },
        "id": "BHLJRokNk7NH",
        "outputId": "9c013c7b-5041-436b-a83e-2092a0f6184c"
      },
      "execution_count": null,
      "outputs": [
        {
          "output_type": "stream",
          "name": "stdout",
          "text": [
            "Dataframe: \n",
            "       Name   Age\n",
            "0    Alice  25.0\n",
            "1     None  30.0\n",
            "2  Charlie   NaN\n",
            "Missing Data:\n",
            ":     Name    Age\n",
            "0  False  False\n",
            "1   True  False\n",
            "2  False   True\n",
            "\n",
            "After Filling Missing Dta:\n",
            "       Name   Age\n",
            "0    Alice  25.0\n",
            "1  Unknown  30.0\n",
            "2  Charlie  27.5\n",
            "\n",
            "After Dropping missing Values\n",
            "     Name   Age\n",
            "0  Alice  25.0\n"
          ]
        }
      ]
    },
    {
      "cell_type": "markdown",
      "source": [
        "### Read and Write CSV Files"
      ],
      "metadata": {
        "id": "5vrp3E-oniY_"
      }
    },
    {
      "cell_type": "code",
      "source": [
        "# Save  DataFrame to CSV\n",
        "#df_filled.to_csv(\"example.csv\",index=False)\n",
        "print(\"\\nDataFrame Saved to 'example.csv\")\n",
        "\n",
        "# Load CSV\n",
        "df_loaded = pd.read_csv(\"example.csv\")\n",
        "print(\"\\nLoaded DataFrame:\\n\",df_loaded)\n"
      ],
      "metadata": {
        "colab": {
          "base_uri": "https://localhost:8080/"
        },
        "id": "jvSViTBsn5rr",
        "outputId": "0e2fae46-af50-403b-ace5-e1d6c51c1b4b"
      },
      "execution_count": null,
      "outputs": [
        {
          "output_type": "stream",
          "name": "stdout",
          "text": [
            "\n",
            "DataFrame Saved to 'example.csv\n",
            "\n",
            "Loaded DataFrame:\n",
            "        id first_name   last_name                        email      gender  \\\n",
            "0       1     Fraser   Petschelt   fpetschelt0@craigslist.org        Male   \n",
            "1       2         Si     Skottle    sskottle1@squarespace.com        Male   \n",
            "2       3      Barbi   Seedhouse  bseedhouse2@miibeian.gov.cn      Female   \n",
            "3       4     Shadow      Scarff         sscarff3@walmart.com        Male   \n",
            "4       5      Karim  Domenicone    kdomenicone4@sakura.ne.jp        Male   \n",
            "..    ...        ...         ...                          ...         ...   \n",
            "995   996  Catharina     Bradtke       cbradtkern@pcworld.com      Female   \n",
            "996   997  Anastasia       Lowde            alowdero@blog.com      Female   \n",
            "997   998      Tandi    Whitlock      twhitlockrp@skyrock.com      Female   \n",
            "998   999    Malvina        Tuhy        mtuhyrq@bloglines.com  Non-binary   \n",
            "999  1000     Kissee    Okeshott          kokeshottrr@msu.edu      Female   \n",
            "\n",
            "          ip_address  cgpa  passing_year        department  attendance  \\\n",
            "0     22.110.131.206  0.13        2000.0          Business       63.56   \n",
            "1         230.8.97.7   NaN        2023.0              Arts       76.00   \n",
            "2     212.118.50.163   NaN        2015.0  Computer Science        9.91   \n",
            "3       43.41.240.67  3.27        2024.0              Arts       90.09   \n",
            "4        29.33.96.28  0.20        2025.0              Arts       91.36   \n",
            "..               ...   ...           ...               ...         ...   \n",
            "995    52.162.96.226  0.49        2015.0          Medicine         NaN   \n",
            "996  199.250.191.241  0.37        2009.0  Computer Science        8.18   \n",
            "997    156.191.196.6  1.04        2023.0          Medicine       92.60   \n",
            "998     49.201.10.99   NaN        2017.0          Medicine       61.29   \n",
            "999     169.43.29.34  2.22        2018.0              Arts       70.99   \n",
            "\n",
            "    home_district  abroad_study  student_id  graduation_date  \\\n",
            "0         Houston         False           1             2015   \n",
            "1           Miami          True           2             2014   \n",
            "2         Houston         False           3             2013   \n",
            "3        New York          True           4             2012   \n",
            "4           Miami         False           5             2008   \n",
            "..            ...           ...         ...              ...   \n",
            "995       Chicago         False         996             2019   \n",
            "996       Chicago          True         997             2011   \n",
            "997      New York         False         998             2011   \n",
            "998      New York          True         999             2008   \n",
            "999         Miami         False        1000             2004   \n",
            "\n",
            "      study_abroad_country study_abroad_city  hsc_gpa  ssc_gpa  \n",
            "0                   France              Laon        5        5  \n",
            "1                    China         Changqiao        1        3  \n",
            "2                    China              Luxi        2        1  \n",
            "3                   Brazil        Chã Grande        5        2  \n",
            "4                   Sweden          Enköping        5        5  \n",
            "..                     ...               ...      ...      ...  \n",
            "995  Palestinian Territory    Dayr Abū Ḑa‘īf        5        4  \n",
            "996              Venezuela         El Corozo        3        1  \n",
            "997                 Sweden            Motala        3        3  \n",
            "998               Pakistan            Nārang        1        4  \n",
            "999                 Uganda             Amuru        3        3  \n",
            "\n",
            "[1000 rows x 18 columns]\n"
          ]
        }
      ]
    },
    {
      "cell_type": "markdown",
      "source": [
        "#Data visualization Class 18\n"
      ],
      "metadata": {
        "id": "_Hk_d4OVp8Yl"
      }
    },
    {
      "cell_type": "markdown",
      "source": [
        "### Which one to choose?\n",
        "\n",
        "- **matplotlib** is for basic plotting -- bars, pies, lines, scatter plots, etc.\n",
        "\n",
        "- **Seaborn** is for statistical visualization -- use it if you're creating heatmaps or somehow summarizing your data and still want to show the distribution of your data\n",
        "\n",
        "- **Bokeh** is for interactive visualization -- if your data is so complex (or you haven't yet found the \"message\" in your data), then use Bokeh to create interactive visualizations that will allow your viewers to explore the data themselves"
      ],
      "metadata": {
        "id": "_JJSOS_GXJTZ"
      }
    },
    {
      "cell_type": "markdown",
      "source": [
        "### What is Matplotlib?\n",
        "- Matplotlib is a Python library for creating visualizations.\n",
        "- Common types of plots:\n",
        "  - Line plots\n",
        "  - Scatter plots\n",
        "  - Bar charts\n",
        "  - Histograms\n",
        "- Key Features:\n",
        "  - Highly customizable.\n",
        "  - Integrates with Pandas and NumPy for data visualization.\n",
        "  - Supports gridlines, annotations, and legends."
      ],
      "metadata": {
        "id": "ydJCCX-UXOs9"
      }
    },
    {
      "cell_type": "code",
      "source": [
        "import matplotlib.pyplot as plt\n"
      ],
      "metadata": {
        "id": "zB0E9LKOXoh4"
      },
      "execution_count": null,
      "outputs": []
    },
    {
      "cell_type": "markdown",
      "source": [
        "#### Line Plot"
      ],
      "metadata": {
        "id": "PImq8c7VXwaS"
      }
    },
    {
      "cell_type": "code",
      "source": [
        "#Data\n",
        "x =[0,1,2,3,4]\n",
        "y =[0,1,4,9,16]\n",
        "\n",
        "# Line plot\n",
        "plt.plot(x,y,marker=\"o\",linestyle=\"--\",color=\"r\",label=\"Point\")\n",
        "plt.title(\"Line Plot Example\")\n",
        "plt.xlabel(\"X-axis\")\n",
        "plt.ylabel(\"Y-axis\")\n",
        "plt.legend(loc='upper right')\n",
        "plt.grid(True)\n",
        "plt.show()"
      ],
      "metadata": {
        "colab": {
          "base_uri": "https://localhost:8080/",
          "height": 472
        },
        "id": "-XeaurO6XvOg",
        "outputId": "a2a3f72c-2149-4e6e-927e-008ca6adb4a7"
      },
      "execution_count": null,
      "outputs": [
        {
          "output_type": "display_data",
          "data": {
            "text/plain": [
              "<Figure size 640x480 with 1 Axes>"
            ],
            "image/png": "[encoded data removed]"
          },
          "metadata": {}
        }
      ]
    },
    {
      "cell_type": "code",
      "source": [
        "# draw a line graph for the subjects and marks"
      ],
      "metadata": {
        "id": "1XiMtvZcaCQP"
      },
      "execution_count": null,
      "outputs": []
    },
    {
      "cell_type": "markdown",
      "source": [
        "#### Bar Plot"
      ],
      "metadata": {
        "id": "cL2D_DSqbg9E"
      }
    },
    {
      "cell_type": "code",
      "source": [
        "#Data\n",
        "categories = [\"A\",\"B\",\"C\"]\n",
        "values = [10,20,15]\n",
        "\n",
        "#Bar plot\n",
        "plt.bar(categories,values,color=\"skyblue\")\n",
        "plt.title(\"Bar Plot Example\")\n",
        "plt.xlabel(\"Categories\")\n",
        "plt.ylabel(\"Values\")\n",
        "plt.show()"
      ],
      "metadata": {
        "colab": {
          "base_uri": "https://localhost:8080/",
          "height": 472
        },
        "id": "0bWuws0EbkxV",
        "outputId": "f1fda999-44df-4168-cd72-5ce7bea16c25"
      },
      "execution_count": null,
      "outputs": [
        {
          "output_type": "display_data",
          "data": {
            "text/plain": [
              "<Figure size 640x480 with 1 Axes>"
            ],
            "image/png": "[encoded data removed]"
          },
          "metadata": {}
        }
      ]
    },
    {
      "cell_type": "markdown",
      "source": [
        "#### Histogram"
      ],
      "metadata": {
        "id": "ziGCi3xsgiRf"
      }
    },
    {
      "cell_type": "code",
      "source": [
        "#Data\n",
        "data = [1,2,3,4,5,6,7,8,9,10]\n",
        "\n",
        "#Histogram\n",
        "plt.hist(data,bins=3,color=\"orange\",edgecolor=\"black\")\n",
        "plt.title(\"Histogram Example\")\n",
        "plt.xlabel(\"Data Bins\")\n",
        "plt.ylabel(\"Frequency\")\n",
        "plt.show()"
      ],
      "metadata": {
        "colab": {
          "base_uri": "https://localhost:8080/",
          "height": 472
        },
        "id": "3vZ4L9lSgn3T",
        "outputId": "53655ade-68f1-463a-ccc4-3e67ae66cc73"
      },
      "execution_count": null,
      "outputs": [
        {
          "output_type": "display_data",
          "data": {
            "text/plain": [
              "<Figure size 640x480 with 1 Axes>"
            ],
            "image/png": "[encoded data removed]"
          },
          "metadata": {}
        }
      ]
    },
    {
      "cell_type": "markdown",
      "source": [
        "#### Scatter Plot"
      ],
      "metadata": {
        "id": "4c4OaHq7iEHs"
      }
    },
    {
      "cell_type": "code",
      "source": [
        "#Data\n",
        "x = [1,2,3,4,5]\n",
        "y = [2,4,6,8,10]\n",
        "\n",
        "#Scatter plot\n",
        "plt.scatter(x,y,color=\"green\",label=\"Data Points\")\n",
        "plt.title(\"Scatter Plot Example\")\n",
        "plt.xlabel(\"X-axis\")\n",
        "plt.ylabel(\"Y-axis\")\n",
        "plt.legend()\n",
        "plt.show()"
      ],
      "metadata": {
        "colab": {
          "base_uri": "https://localhost:8080/",
          "height": 472
        },
        "id": "9QvGO31QiGvp",
        "outputId": "aec166fa-1a46-4030-8e95-d00021fd0a9d"
      },
      "execution_count": null,
      "outputs": [
        {
          "output_type": "display_data",
          "data": {
            "text/plain": [
              "<Figure size 640x480 with 1 Axes>"
            ],
            "image/png": "[encoded data removed]"
          },
          "metadata": {}
        }
      ]
    },
    {
      "cell_type": "markdown",
      "source": [
        "### Task For Project 1: Analyze and Visualize Titanic Dataset\n",
        "\n",
        "Dataset: Titanic (Download from [Kaggle Titanic Dataset](https://www.kaggle.com/competitions/titanic/data?select=train.csv) or [Google Drive](https://drive.google.com/file/d/1sHZoOhKGsNIRIPdrd0RKdCb_eufVPV6m/view?usp=sharing) or [github](https://raw.githubusercontent.com/datasciencedojo/datasets/master/titanic.csv)\n",
        "\n",
        "Assignment Goals:\n",
        "\n",
        "1.\tPerform Exploratory Data Analysis:\n",
        "\n",
        "\t- Summarize the dataset.\n",
        "  - Handle missing values.\n",
        "  - Analyze survival rate by gender, age group, and class.\n",
        "\n",
        "2.\tCreate Visualizations:\n",
        "\n",
        "  - Histogram of passenger ages.\n",
        "  - Bar plot of survival count by class.\n",
        "  - Scatter plot of age vs. fare with survival as color"
      ],
      "metadata": {
        "id": "pG2hP9VOoVjm"
      }
    },
    {
      "cell_type": "code",
      "source": [
        "import pandas as pd\n",
        "import matplotlib.pyplot as plt"
      ],
      "metadata": {
        "id": "Y9vZUwWrodGq"
      },
      "execution_count": null,
      "outputs": []
    },
    {
      "cell_type": "code",
      "source": [
        "##Download database form url\n",
        "!wget https://raw.githubusercontent.com/datasciencedojo/datasets/master/titanic.csv\n",
        "\n"
      ],
      "metadata": {
        "colab": {
          "base_uri": "https://localhost:8080/"
        },
        "id": "tCe4a_Fn7MwO",
        "outputId": "88039251-3277-4256-a345-73460680229a"
      },
      "execution_count": null,
      "outputs": [
        {
          "output_type": "stream",
          "name": "stdout",
          "text": [
            "--2024-12-16 08:18:10--  https://raw.githubusercontent.com/datasciencedojo/datasets/master/titanic.csv\n",
            "Resolving raw.githubusercontent.com (raw.githubusercontent.com)... 185.199.108.133, 185.199.109.133, 185.199.110.133, ...\n",
            "Connecting to raw.githubusercontent.com (raw.githubusercontent.com)|185.199.108.133|:443... connected.\n",
            "HTTP request sent, awaiting response... 200 OK\n",
            "Length: 60302 (59K) [text/plain]\n",
            "Saving to: ‘titanic.csv’\n",
            "\n",
            "titanic.csv         100%[===================>]  58.89K  --.-KB/s    in 0.01s   \n",
            "\n",
            "2024-12-16 08:18:10 (4.41 MB/s) - ‘titanic.csv’ saved [60302/60302]\n",
            "\n"
          ]
        }
      ]
    },
    {
      "cell_type": "code",
      "source": [
        "#import titanic database from drive\n",
        "df = pd.read_csv(\"titanic.csv\")\n",
        "df.head()\n",
        "df.sample(2\n",
        "          )\n"
      ],
      "metadata": {
        "colab": {
          "base_uri": "https://localhost:8080/",
          "height": 201
        },
        "id": "eiC9w8-_olyZ",
        "outputId": "060145a7-ee80-4030-f665-a2a855049904"
      },
      "execution_count": null,
      "outputs": [
        {
          "output_type": "execute_result",
          "data": {
            "text/plain": [
              "     PassengerId  Survived  Pclass                 Name     Sex   Age  SibSp  \\\n",
              "890          891         0       3  Dooley, Mr. Patrick    male  32.0      0   \n",
              "303          304         1       2  Keane, Miss. Nora A  female   NaN      0   \n",
              "\n",
              "     Parch  Ticket   Fare Cabin Embarked  \n",
              "890      0  370376   7.75   NaN        Q  \n",
              "303      0  226593  12.35  E101        Q  "
            ],
            "text/html": [
              "\n",
              "  <div id=\"df-ba880e1f-7eca-454b-9224-8ccd790e85f0\" class=\"colab-df-container\">\n",
              "    <div>\n",
              "<style scoped>\n",
              "    .dataframe tbody tr th:only-of-type {\n",
              "        vertical-align: middle;\n",
              "    }\n",
              "\n",
              "    .dataframe tbody tr th {\n",
              "        vertical-align: top;\n",
              "    }\n",
              "\n",
              "    .dataframe thead th {\n",
              "        text-align: right;\n",
              "    }\n",
              "</style>\n",
              "<table border=\"1\" class=\"dataframe\">\n",
              "  <thead>\n",
              "    <tr style=\"text-align: right;\">\n",
              "      <th></th>\n",
              "      <th>PassengerId</th>\n",
              "      <th>Survived</th>\n",
              "      <th>Pclass</th>\n",
              "      <th>Name</th>\n",
              "      <th>Sex</th>\n",
              "      <th>Age</th>\n",
              "      <th>SibSp</th>\n",
              "      <th>Parch</th>\n",
              "      <th>Ticket</th>\n",
              "      <th>Fare</th>\n",
              "      <th>Cabin</th>\n",
              "      <th>Embarked</th>\n",
              "    </tr>\n",
              "  </thead>\n",
              "  <tbody>\n",
              "    <tr>\n",
              "      <th>890</th>\n",
              "      <td>891</td>\n",
              "      <td>0</td>\n",
              "      <td>3</td>\n",
              "      <td>Dooley, Mr. Patrick</td>\n",
              "      <td>male</td>\n",
              "      <td>32.0</td>\n",
              "      <td>0</td>\n",
              "      <td>0</td>\n",
              "      <td>370376</td>\n",
              "      <td>7.75</td>\n",
              "      <td>NaN</td>\n",
              "      <td>Q</td>\n",
              "    </tr>\n",
              "    <tr>\n",
              "      <th>303</th>\n",
              "      <td>304</td>\n",
              "      <td>1</td>\n",
              "      <td>2</td>\n",
              "      <td>Keane, Miss. Nora A</td>\n",
              "      <td>female</td>\n",
              "      <td>NaN</td>\n",
              "      <td>0</td>\n",
              "      <td>0</td>\n",
              "      <td>226593</td>\n",
              "      <td>12.35</td>\n",
              "      <td>E101</td>\n",
              "      <td>Q</td>\n",
              "    </tr>\n",
              "  </tbody>\n",
              "</table>\n",
              "</div>\n",
              "    <div class=\"colab-df-buttons\">\n",
              "\n",
              "  <div class=\"colab-df-container\">\n",
              "    <button class=\"colab-df-convert\" onclick=\"convertToInteractive('df-ba880e1f-7eca-454b-9224-8ccd790e85f0')\"\n",
              "            title=\"Convert this dataframe to an interactive table.\"\n",
              "            style=\"display:none;\">\n",
              "\n",
              "  <svg xmlns=\"http://www.w3.org/2000/svg\" height=\"24px\" viewBox=\"0 -960 960 960\">\n",
              "    <path d=\"M120-120v-720h720v720H120Zm60-500h600v-160H180v160Zm220 220h160v-160H400v160Zm0 220h160v-160H400v160ZM180-400h160v-160H180v160Zm440 0h160v-160H620v160ZM180-180h160v-160H180v160Zm440 0h160v-160H620v160Z\"/>\n",
              "  </svg>\n",
              "    </button>\n",
              "\n",
              "  <style>\n",
              "    .colab-df-container {\n",
              "      display:flex;\n",
              "      gap: 12px;\n",
              "    }\n",
              "\n",
              "    .colab-df-convert {\n",
              "      background-color: #E8F0FE;\n",
              "      border: none;\n",
              "      border-radius: 50%;\n",
              "      cursor: pointer;\n",
              "      display: none;\n",
              "      fill: #1967D2;\n",
              "      height: 32px;\n",
              "      padding: 0 0 0 0;\n",
              "      width: 32px;\n",
              "    }\n",
              "\n",
              "    .colab-df-convert:hover {\n",
              "      background-color: #E2EBFA;\n",
              "      box-shadow: 0px 1px 2px rgba(60, 64, 67, 0.3), 0px 1px 3px 1px rgba(60, 64, 67, 0.15);\n",
              "      fill: #174EA6;\n",
              "    }\n",
              "\n",
              "    .colab-df-buttons div {\n",
              "      margin-bottom: 4px;\n",
              "    }\n",
              "\n",
              "    [theme=dark] .colab-df-convert {\n",
              "      background-color: #3B4455;\n",
              "      fill: #D2E3FC;\n",
              "    }\n",
              "\n",
              "    [theme=dark] .colab-df-convert:hover {\n",
              "      background-color: #434B5C;\n",
              "      box-shadow: 0px 1px 3px 1px rgba(0, 0, 0, 0.15);\n",
              "      filter: drop-shadow(0px 1px 2px rgba(0, 0, 0, 0.3));\n",
              "      fill: #FFFFFF;\n",
              "    }\n",
              "  </style>\n",
              "\n",
              "    <script>\n",
              "      const buttonEl =\n",
              "        document.querySelector('#df-ba880e1f-7eca-454b-9224-8ccd790e85f0 button.colab-df-convert');\n",
              "      buttonEl.style.display =\n",
              "        google.colab.kernel.accessAllowed ? 'block' : 'none';\n",
              "\n",
              "      async function convertToInteractive(key) {\n",
              "        const element = document.querySelector('#df-ba880e1f-7eca-454b-9224-8ccd790e85f0');\n",
              "        const dataTable =\n",
              "          await google.colab.kernel.invokeFunction('convertToInteractive',\n",
              "                                                    [key], {});\n",
              "        if (!dataTable) return;\n",
              "\n",
              "        const docLinkHtml = 'Like what you see? Visit the ' +\n",
              "          '<a target=\"_blank\" href=https://colab.research.google.com/notebooks/data_table.ipynb>data table notebook</a>'\n",
              "          + ' to learn more about interactive tables.';\n",
              "        element.innerHTML = '';\n",
              "        dataTable['output_type'] = 'display_data';\n",
              "        await google.colab.output.renderOutput(dataTable, element);\n",
              "        const docLink = document.createElement('div');\n",
              "        docLink.innerHTML = docLinkHtml;\n",
              "        element.appendChild(docLink);\n",
              "      }\n",
              "    </script>\n",
              "  </div>\n",
              "\n",
              "\n",
              "<div id=\"df-ffa90f67-9cd0-49df-b61b-c49c4f513299\">\n",
              "  <button class=\"colab-df-quickchart\" onclick=\"quickchart('df-ffa90f67-9cd0-49df-b61b-c49c4f513299')\"\n",
              "            title=\"Suggest charts\"\n",
              "            style=\"display:none;\">\n",
              "\n",
              "<svg xmlns=\"http://www.w3.org/2000/svg\" height=\"24px\"viewBox=\"0 0 24 24\"\n",
              "     width=\"24px\">\n",
              "    <g>\n",
              "        <path d=\"M19 3H5c-1.1 0-2 .9-2 2v14c0 1.1.9 2 2 2h14c1.1 0 2-.9 2-2V5c0-1.1-.9-2-2-2zM9 17H7v-7h2v7zm4 0h-2V7h2v10zm4 0h-2v-4h2v4z\"/>\n",
              "    </g>\n",
              "</svg>\n",
              "  </button>\n",
              "\n",
              "<style>\n",
              "  .colab-df-quickchart {\n",
              "      --bg-color: #E8F0FE;\n",
              "      --fill-color: #1967D2;\n",
              "      --hover-bg-color: #E2EBFA;\n",
              "      --hover-fill-color: #174EA6;\n",
              "      --disabled-fill-color: #AAA;\n",
              "      --disabled-bg-color: #DDD;\n",
              "  }\n",
              "\n",
              "  [theme=dark] .colab-df-quickchart {\n",
              "      --bg-color: #3B4455;\n",
              "      --fill-color: #D2E3FC;\n",
              "      --hover-bg-color: #434B5C;\n",
              "      --hover-fill-color: #FFFFFF;\n",
              "      --disabled-bg-color: #3B4455;\n",
              "      --disabled-fill-color: #666;\n",
              "  }\n",
              "\n",
              "  .colab-df-quickchart {\n",
              "    background-color: var(--bg-color);\n",
              "    border: none;\n",
              "    border-radius: 50%;\n",
              "    cursor: pointer;\n",
              "    display: none;\n",
              "    fill: var(--fill-color);\n",
              "    height: 32px;\n",
              "    padding: 0;\n",
              "    width: 32px;\n",
              "  }\n",
              "\n",
              "  .colab-df-quickchart:hover {\n",
              "    background-color: var(--hover-bg-color);\n",
              "    box-shadow: 0 1px 2px rgba(60, 64, 67, 0.3), 0 1px 3px 1px rgba(60, 64, 67, 0.15);\n",
              "    fill: var(--button-hover-fill-color);\n",
              "  }\n",
              "\n",
              "  .colab-df-quickchart-complete:disabled,\n",
              "  .colab-df-quickchart-complete:disabled:hover {\n",
              "    background-color: var(--disabled-bg-color);\n",
              "    fill: var(--disabled-fill-color);\n",
              "    box-shadow: none;\n",
              "  }\n",
              "\n",
              "  .colab-df-spinner {\n",
              "    border: 2px solid var(--fill-color);\n",
              "    border-color: transparent;\n",
              "    border-bottom-color: var(--fill-color);\n",
              "    animation:\n",
              "      spin 1s steps(1) infinite;\n",
              "  }\n",
              "\n",
              "  @keyframes spin {\n",
              "    0% {\n",
              "      border-color: transparent;\n",
              "      border-bottom-color: var(--fill-color);\n",
              "      border-left-color: var(--fill-color);\n",
              "    }\n",
              "    20% {\n",
              "      border-color: transparent;\n",
              "      border-left-color: var(--fill-color);\n",
              "      border-top-color: var(--fill-color);\n",
              "    }\n",
              "    30% {\n",
              "      border-color: transparent;\n",
              "      border-left-color: var(--fill-color);\n",
              "      border-top-color: var(--fill-color);\n",
              "      border-right-color: var(--fill-color);\n",
              "    }\n",
              "    40% {\n",
              "      border-color: transparent;\n",
              "      border-right-color: var(--fill-color);\n",
              "      border-top-color: var(--fill-color);\n",
              "    }\n",
              "    60% {\n",
              "      border-color: transparent;\n",
              "      border-right-color: var(--fill-color);\n",
              "    }\n",
              "    80% {\n",
              "      border-color: transparent;\n",
              "      border-right-color: var(--fill-color);\n",
              "      border-bottom-color: var(--fill-color);\n",
              "    }\n",
              "    90% {\n",
              "      border-color: transparent;\n",
              "      border-bottom-color: var(--fill-color);\n",
              "    }\n",
              "  }\n",
              "</style>\n",
              "\n",
              "  <script>\n",
              "    async function quickchart(key) {\n",
              "      const quickchartButtonEl =\n",
              "        document.querySelector('#' + key + ' button');\n",
              "      quickchartButtonEl.disabled = true;  // To prevent multiple clicks.\n",
              "      quickchartButtonEl.classList.add('colab-df-spinner');\n",
              "      try {\n",
              "        const charts = await google.colab.kernel.invokeFunction(\n",
              "            'suggestCharts', [key], {});\n",
              "      } catch (error) {\n",
              "        console.error('Error during call to suggestCharts:', error);\n",
              "      }\n",
              "      quickchartButtonEl.classList.remove('colab-df-spinner');\n",
              "      quickchartButtonEl.classList.add('colab-df-quickchart-complete');\n",
              "    }\n",
              "    (() => {\n",
              "      let quickchartButtonEl =\n",
              "        document.querySelector('#df-ffa90f67-9cd0-49df-b61b-c49c4f513299 button');\n",
              "      quickchartButtonEl.style.display =\n",
              "        google.colab.kernel.accessAllowed ? 'block' : 'none';\n",
              "    })();\n",
              "  </script>\n",
              "</div>\n",
              "\n",
              "    </div>\n",
              "  </div>\n"
            ],
            "application/vnd.google.colaboratory.intrinsic+json": {
              "type": "dataframe",
              "summary": "{\n  \"name\": \"          )\",\n  \"rows\": 2,\n  \"fields\": [\n    {\n      \"column\": \"PassengerId\",\n      \"properties\": {\n        \"dtype\": \"number\",\n        \"std\": 415,\n        \"min\": 304,\n        \"max\": 891,\n        \"num_unique_values\": 2,\n        \"samples\": [\n          304,\n          891\n        ],\n        \"semantic_type\": \"\",\n        \"description\": \"\"\n      }\n    },\n    {\n      \"column\": \"Survived\",\n      \"properties\": {\n        \"dtype\": \"number\",\n        \"std\": 0,\n        \"min\": 0,\n        \"max\": 1,\n        \"num_unique_values\": 2,\n        \"samples\": [\n          1,\n          0\n        ],\n        \"semantic_type\": \"\",\n        \"description\": \"\"\n      }\n    },\n    {\n      \"column\": \"Pclass\",\n      \"properties\": {\n        \"dtype\": \"number\",\n        \"std\": 0,\n        \"min\": 2,\n        \"max\": 3,\n        \"num_unique_values\": 2,\n        \"samples\": [\n          2,\n          3\n        ],\n        \"semantic_type\": \"\",\n        \"description\": \"\"\n      }\n    },\n    {\n      \"column\": \"Name\",\n      \"properties\": {\n        \"dtype\": \"string\",\n        \"num_unique_values\": 2,\n        \"samples\": [\n          \"Keane, Miss. Nora A\",\n          \"Dooley, Mr. Patrick\"\n        ],\n        \"semantic_type\": \"\",\n        \"description\": \"\"\n      }\n    },\n    {\n      \"column\": \"Sex\",\n      \"properties\": {\n        \"dtype\": \"string\",\n        \"num_unique_values\": 2,\n        \"samples\": [\n          \"female\",\n          \"male\"\n        ],\n        \"semantic_type\": \"\",\n        \"description\": \"\"\n      }\n    },\n    {\n      \"column\": \"Age\",\n      \"properties\": {\n        \"dtype\": \"number\",\n        \"std\": null,\n        \"min\": 32.0,\n        \"max\": 32.0,\n        \"num_unique_values\": 1,\n        \"samples\": [\n          32.0\n        ],\n        \"semantic_type\": \"\",\n        \"description\": \"\"\n      }\n    },\n    {\n      \"column\": \"SibSp\",\n      \"properties\": {\n        \"dtype\": \"number\",\n        \"std\": 0,\n        \"min\": 0,\n        \"max\": 0,\n        \"num_unique_values\": 1,\n        \"samples\": [\n          0\n        ],\n        \"semantic_type\": \"\",\n        \"description\": \"\"\n      }\n    },\n    {\n      \"column\": \"Parch\",\n      \"properties\": {\n        \"dtype\": \"number\",\n        \"std\": 0,\n        \"min\": 0,\n        \"max\": 0,\n        \"num_unique_values\": 1,\n        \"samples\": [\n          0\n        ],\n        \"semantic_type\": \"\",\n        \"description\": \"\"\n      }\n    },\n    {\n      \"column\": \"Ticket\",\n      \"properties\": {\n        \"dtype\": \"string\",\n        \"num_unique_values\": 2,\n        \"samples\": [\n          \"226593\"\n        ],\n        \"semantic_type\": \"\",\n        \"description\": \"\"\n      }\n    },\n    {\n      \"column\": \"Fare\",\n      \"properties\": {\n        \"dtype\": \"number\",\n        \"std\": 3.2526911934581184,\n        \"min\": 7.75,\n        \"max\": 12.35,\n        \"num_unique_values\": 2,\n        \"samples\": [\n          12.35\n        ],\n        \"semantic_type\": \"\",\n        \"description\": \"\"\n      }\n    },\n    {\n      \"column\": \"Cabin\",\n      \"properties\": {\n        \"dtype\": \"string\",\n        \"num_unique_values\": 1,\n        \"samples\": [\n          \"E101\"\n        ],\n        \"semantic_type\": \"\",\n        \"description\": \"\"\n      }\n    },\n    {\n      \"column\": \"Embarked\",\n      \"properties\": {\n        \"dtype\": \"string\",\n        \"num_unique_values\": 1,\n        \"samples\": [\n          \"Q\"\n        ],\n        \"semantic_type\": \"\",\n        \"description\": \"\"\n      }\n    }\n  ]\n}"
            }
          },
          "metadata": {},
          "execution_count": 5
        }
      ]
    },
    {
      "cell_type": "code",
      "source": [
        "print(df.dtypes)\n",
        "#task: Print the last element of the tinatic dataset\n",
        "print(df.tail(1))"
      ],
      "metadata": {
        "colab": {
          "base_uri": "https://localhost:8080/"
        },
        "id": "3AVHC1828AB_",
        "outputId": "f2d96afa-b051-4207-db6a-37948a09d2d8"
      },
      "execution_count": null,
      "outputs": [
        {
          "output_type": "stream",
          "name": "stdout",
          "text": [
            "PassengerId      int64\n",
            "Survived         int64\n",
            "Pclass           int64\n",
            "Name            object\n",
            "Sex             object\n",
            "Age            float64\n",
            "SibSp            int64\n",
            "Parch            int64\n",
            "Ticket          object\n",
            "Fare           float64\n",
            "Cabin           object\n",
            "Embarked        object\n",
            "dtype: object\n",
            "     PassengerId  Survived  Pclass                 Name   Sex   Age  SibSp  \\\n",
            "890          891         0       3  Dooley, Mr. Patrick  male  32.0      0   \n",
            "\n",
            "     Parch  Ticket  Fare Cabin Embarked  \n",
            "890      0  370376  7.75   NaN        Q  \n"
          ]
        }
      ]
    },
    {
      "cell_type": "markdown",
      "source": [
        "#### Exploratory Data Analysis\n"
      ],
      "metadata": {
        "id": "apS0h6Vup0Rc"
      }
    },
    {
      "cell_type": "markdown",
      "source": [
        "##### investigate and Handle Missing Data"
      ],
      "metadata": {
        "id": "MpZ1y9s9p5bn"
      }
    },
    {
      "cell_type": "code",
      "source": [
        "df.isnull().sum()"
      ],
      "metadata": {
        "colab": {
          "base_uri": "https://localhost:8080/",
          "height": 460
        },
        "id": "4LMFNUAJqB-g",
        "outputId": "c2bcbfb3-06f2-4a41-8d8b-0dd985a2d05e"
      },
      "execution_count": null,
      "outputs": [
        {
          "output_type": "execute_result",
          "data": {
            "text/plain": [
              "PassengerId      0\n",
              "Survived         0\n",
              "Pclass           0\n",
              "Name             0\n",
              "Sex              0\n",
              "Age            177\n",
              "SibSp            0\n",
              "Parch            0\n",
              "Ticket           0\n",
              "Fare             0\n",
              "Cabin          687\n",
              "Embarked         2\n",
              "dtype: int64"
            ],
            "text/html": [
              "<div>\n",
              "<style scoped>\n",
              "    .dataframe tbody tr th:only-of-type {\n",
              "        vertical-align: middle;\n",
              "    }\n",
              "\n",
              "    .dataframe tbody tr th {\n",
              "        vertical-align: top;\n",
              "    }\n",
              "\n",
              "    .dataframe thead th {\n",
              "        text-align: right;\n",
              "    }\n",
              "</style>\n",
              "<table border=\"1\" class=\"dataframe\">\n",
              "  <thead>\n",
              "    <tr style=\"text-align: right;\">\n",
              "      <th></th>\n",
              "      <th>0</th>\n",
              "    </tr>\n",
              "  </thead>\n",
              "  <tbody>\n",
              "    <tr>\n",
              "      <th>PassengerId</th>\n",
              "      <td>0</td>\n",
              "    </tr>\n",
              "    <tr>\n",
              "      <th>Survived</th>\n",
              "      <td>0</td>\n",
              "    </tr>\n",
              "    <tr>\n",
              "      <th>Pclass</th>\n",
              "      <td>0</td>\n",
              "    </tr>\n",
              "    <tr>\n",
              "      <th>Name</th>\n",
              "      <td>0</td>\n",
              "    </tr>\n",
              "    <tr>\n",
              "      <th>Sex</th>\n",
              "      <td>0</td>\n",
              "    </tr>\n",
              "    <tr>\n",
              "      <th>Age</th>\n",
              "      <td>177</td>\n",
              "    </tr>\n",
              "    <tr>\n",
              "      <th>SibSp</th>\n",
              "      <td>0</td>\n",
              "    </tr>\n",
              "    <tr>\n",
              "      <th>Parch</th>\n",
              "      <td>0</td>\n",
              "    </tr>\n",
              "    <tr>\n",
              "      <th>Ticket</th>\n",
              "      <td>0</td>\n",
              "    </tr>\n",
              "    <tr>\n",
              "      <th>Fare</th>\n",
              "      <td>0</td>\n",
              "    </tr>\n",
              "    <tr>\n",
              "      <th>Cabin</th>\n",
              "      <td>687</td>\n",
              "    </tr>\n",
              "    <tr>\n",
              "      <th>Embarked</th>\n",
              "      <td>2</td>\n",
              "    </tr>\n",
              "  </tbody>\n",
              "</table>\n",
              "</div><br><label><b>dtype:</b> int64</label>"
            ]
          },
          "metadata": {},
          "execution_count": 45
        }
      ]
    },
    {
      "cell_type": "code",
      "source": [
        "#Handling missing data\n",
        "#Fill missing values\n",
        "print(df[\"Age\"])\n",
        "df_filled =df.fillna({\"Cabin\": \"Unknown\",\"Age\":df[\"Age\"].mean(),\"Embarked\": \"O\"})\n",
        "\n",
        "df_filled.isnull().sum()"
      ],
      "metadata": {
        "id": "UPtdQQHbrPq_"
      },
      "execution_count": null,
      "outputs": []
    },
    {
      "cell_type": "code",
      "source": [
        "# Handle Embarked data where missing\n",
        "#show that data are replaced"
      ],
      "metadata": {
        "id": "DOSUxsBWk4yD"
      },
      "execution_count": null,
      "outputs": []
    },
    {
      "cell_type": "markdown",
      "source": [
        "##### Summarize dataset"
      ],
      "metadata": {
        "id": "MhcDqZabqXwD"
      }
    },
    {
      "cell_type": "code",
      "source": [
        "print(df.describe())"
      ],
      "metadata": {
        "colab": {
          "base_uri": "https://localhost:8080/"
        },
        "id": "UawlqZu9qgR2",
        "outputId": "b2ee0d6a-01a6-4264-f1a2-c63007260345"
      },
      "execution_count": null,
      "outputs": [
        {
          "output_type": "stream",
          "name": "stdout",
          "text": [
            "       PassengerId    Survived      Pclass         Age       SibSp  \\\n",
            "count   891.000000  891.000000  891.000000  714.000000  891.000000   \n",
            "mean    446.000000    0.383838    2.308642   29.699118    0.523008   \n",
            "std     257.353842    0.486592    0.836071   14.526497    1.102743   \n",
            "min       1.000000    0.000000    1.000000    0.420000    0.000000   \n",
            "25%     223.500000    0.000000    2.000000   20.125000    0.000000   \n",
            "50%     446.000000    0.000000    3.000000   28.000000    0.000000   \n",
            "75%     668.500000    1.000000    3.000000   38.000000    1.000000   \n",
            "max     891.000000    1.000000    3.000000   80.000000    8.000000   \n",
            "\n",
            "            Parch        Fare  \n",
            "count  891.000000  891.000000  \n",
            "mean     0.381594   32.204208  \n",
            "std      0.806057   49.693429  \n",
            "min      0.000000    0.000000  \n",
            "25%      0.000000    7.910400  \n",
            "50%      0.000000   14.454200  \n",
            "75%      0.000000   31.000000  \n",
            "max      6.000000  512.329200  \n"
          ]
        }
      ]
    },
    {
      "cell_type": "markdown",
      "source": [
        "##### visualize on bar plot\n"
      ],
      "metadata": {
        "id": "lChvsqTXq4hL"
      }
    },
    {
      "cell_type": "code",
      "source": [
        "import matplotlib.pyplot as plt\n",
        "\n",
        "#Data\n",
        "ages = df[\"Age\"]\n",
        "fares = df[\"Fare\"]\n",
        "\n",
        "#Bar plot\n",
        "plt.bar(ages,fares,color=\"skyblue\")\n",
        "plt.title(\"Bar Plot Age vs Fare\")\n",
        "plt.xlabel(\"Age\")\n",
        "plt.ylabel(\"Fare\")\n",
        "plt.show()"
      ],
      "metadata": {
        "id": "lqW1FbharsgB",
        "colab": {
          "base_uri": "https://localhost:8080/",
          "height": 472
        },
        "outputId": "8925aa58-87ad-478d-b09a-7b5d80003bae"
      },
      "execution_count": null,
      "outputs": [
        {
          "output_type": "display_data",
          "data": {
            "text/plain": [
              "<Figure size 640x480 with 1 Axes>"
            ],
            "image/png": "[encoded data removed]"
          },
          "metadata": {}
        }
      ]
    },
    {
      "cell_type": "code",
      "source": [
        "#"
      ],
      "metadata": {
        "id": "T2d4X0mUntZO"
      },
      "execution_count": null,
      "outputs": []
    },
    {
      "cell_type": "markdown",
      "source": [
        "##### show the male female survive"
      ],
      "metadata": {
        "id": "XjoUP4LuxPDt"
      }
    },
    {
      "cell_type": "code",
      "source": [
        "#show the male female Survived graph\n",
        "df_male = df[df[\"Sex\"] == \"male\"]\n",
        "df_female = df[df[\"Sex\"] == \"female\"]\n",
        "yMale = df_male[\"Survived\"].shape[0]\n",
        "yFemal = df_female[\"Survived\"].shape[0]\n",
        "#show bar graph\n",
        "plt.bar([\"male\",\"female\"],[yMale,yFemal],color=\"skyblue\")\n",
        "plt.title(\"Bar Plot Male vs Female Survived Graph\")\n",
        "plt.xlabel(\"Gender\")\n",
        "plt.ylabel(\"Total survived\")\n",
        "plt.show()\n"
      ],
      "metadata": {
        "colab": {
          "base_uri": "https://localhost:8080/",
          "height": 472
        },
        "id": "SYPwb-0nxVaO",
        "outputId": "7721d8db-a8be-4bbf-adde-190e6a738b53"
      },
      "execution_count": null,
      "outputs": [
        {
          "output_type": "display_data",
          "data": {
            "text/plain": [
              "<Figure size 640x480 with 1 Axes>"
            ],
            "image/png": "[encoded data removed]"
          },
          "metadata": {}
        }
      ]
    },
    {
      "cell_type": "markdown",
      "source": [
        "Age vs male/female scatter plt (fare,survived)"
      ],
      "metadata": {
        "id": "e1ZS_W8x0hZl"
      }
    },
    {
      "cell_type": "code",
      "source": [
        "#age vs male/female scatter plt\n",
        "#Survived color to red else green\n",
        "colors = [\"green\" if survived else \"red\" for survived in df[\"Survived\"]]\n",
        "\n",
        "plt.scatter(df[\"Age\"],df[\"Fare\"],color= colors,label=\"Death Points\")\n",
        "plt.title(\"Scatter Plot Age vs Fare with Death (red)\")\n",
        "plt.xlabel(\"Age\")\n",
        "plt.ylabel(\"Fare price\")\n",
        "plt.legend()\n",
        "plt.show()"
      ],
      "metadata": {
        "colab": {
          "base_uri": "https://localhost:8080/",
          "height": 472
        },
        "id": "JQfxVQh60rRW",
        "outputId": "f08668b1-0d17-4447-deb1-1d810183f758"
      },
      "execution_count": null,
      "outputs": [
        {
          "output_type": "display_data",
          "data": {
            "text/plain": [
              "<Figure size 640x480 with 1 Axes>"
            ],
            "image/png": "[encoded data removed]"
          },
          "metadata": {}
        }
      ]
    },
    {
      "cell_type": "code",
      "source": [
        "!wget https://raw.githubusercontent.com/Apaulgithub/Netflix_Movies_And_TV_Shows_Clustering/refs/heads/main/NETFLIX%20MOVIES%20AND%20TV%20SHOWS%20CLUSTERING.csv"
      ],
      "metadata": {
        "colab": {
          "base_uri": "https://localhost:8080/"
        },
        "id": "dXeVmZL5-V8p",
        "outputId": "edee5b50-1e99-473d-b508-92d104b8e204"
      },
      "execution_count": null,
      "outputs": [
        {
          "output_type": "stream",
          "name": "stdout",
          "text": [
            "--2024-12-10 13:02:05--  https://raw.githubusercontent.com/Apaulgithub/Netflix_Movies_And_TV_Shows_Clustering/refs/heads/main/NETFLIX%20MOVIES%20AND%20TV%20SHOWS%20CLUSTERING.csv\n",
            "Resolving raw.githubusercontent.com (raw.githubusercontent.com)... 185.199.108.133, 185.199.109.133, 185.199.110.133, ...\n",
            "Connecting to raw.githubusercontent.com (raw.githubusercontent.com)|185.199.108.133|:443... connected.\n",
            "HTTP request sent, awaiting response... 200 OK\n",
            "Length: 3000491 (2.9M) [text/plain]\n",
            "Saving to: ‘NETFLIX MOVIES AND TV SHOWS CLUSTERING.csv’\n",
            "\n",
            "NETFLIX MOVIES AND  100%[===================>]   2.86M  --.-KB/s    in 0.07s   \n",
            "\n",
            "2024-12-10 13:02:06 (38.4 MB/s) - ‘NETFLIX MOVIES AND TV SHOWS CLUSTERING.csv’ saved [3000491/3000491]\n",
            "\n"
          ]
        }
      ]
    },
    {
      "cell_type": "code",
      "source": [
        "import pandas as pd\n",
        "import matplotlib.pyplot as plt"
      ],
      "metadata": {
        "id": "Vbah91dm_IeP"
      },
      "execution_count": null,
      "outputs": []
    },
    {
      "cell_type": "code",
      "source": [
        "#import titanic database from drive\n",
        "df = pd.read_csv(\"NETFLIX MOVIES AND TV SHOWS CLUSTERING.csv\")\n",
        "df.head()\n",
        "df.sample(5)"
      ],
      "metadata": {
        "colab": {
          "base_uri": "https://localhost:8080/",
          "height": 625
        },
        "id": "aZF6S-fT_Mi9",
        "outputId": "8c4692e1-f622-45cf-9640-83f665af2f64"
      },
      "execution_count": null,
      "outputs": [
        {
          "output_type": "execute_result",
          "data": {
            "text/plain": [
              "     show_id     type                        title           director  \\\n",
              "2870   s2871    Movie              Hunter's Prayer    Jonathan Mostow   \n",
              "3241   s3242  TV Show                        Juman                NaN   \n",
              "4796   s4797    Movie  Patton Oswalt: Annihilation  Bobcat Goldthwait   \n",
              "5867   s5868  TV Show       Suburra: Blood on Rome                NaN   \n",
              "5544   s5545    Movie           Shattered Memories    Chris Sivertson   \n",
              "\n",
              "                                                   cast  \\\n",
              "2870  Sam Worthington, Odeya Rush, Amy Landecker, Al...   \n",
              "3241  Nour Al Ghandour, Muhanad Al-Hamdi, Huda El Kh...   \n",
              "4796                                      Patton Oswalt   \n",
              "5867  Alessandro Borghi, Giacomo Ferrara, Eduardo Va...   \n",
              "5544  Elizabeth Bogush, Brad Schmidt, Sarah Lind, Ed...   \n",
              "\n",
              "                            country        date_added  release_year rating  \\\n",
              "2870  United States, Spain, Germany  October 22, 2019          2015      R   \n",
              "3241                         Kuwait  December 8, 2020          2019   TV-G   \n",
              "4796                  United States  October 17, 2017          2017  TV-MA   \n",
              "5867                          Italy  October 30, 2020          2020  TV-MA   \n",
              "5544                  United States  October 23, 2020          2018  TV-14   \n",
              "\n",
              "       duration                                          listed_in  \\\n",
              "2870     91 min             Action & Adventure, Independent Movies   \n",
              "3241   1 Season  International TV Shows, Romantic TV Shows, TV ...   \n",
              "4796     66 min                                    Stand-Up Comedy   \n",
              "5867  3 Seasons  Crime TV Shows, International TV Shows, TV Dramas   \n",
              "5544     86 min                                  Dramas, Thrillers   \n",
              "\n",
              "                                            description  \n",
              "2870  A hired gun has second thoughts when he's cont...  \n",
              "3241  Despite their estranged families, Juman and Hi...  \n",
              "4796  By turns scathing and candid, Patton Oswalt re...  \n",
              "5867  In 2008, a fight over land in a seaside town n...  \n",
              "5544  When her former lover's mysteriously murdered,...  "
            ],
            "text/html": [
              "\n",
              "  <div id=\"df-56c598b9-8e69-4b1b-8302-689bd3522d53\" class=\"colab-df-container\">\n",
              "    <div>\n",
              "<style scoped>\n",
              "    .dataframe tbody tr th:only-of-type {\n",
              "        vertical-align: middle;\n",
              "    }\n",
              "\n",
              "    .dataframe tbody tr th {\n",
              "        vertical-align: top;\n",
              "    }\n",
              "\n",
              "    .dataframe thead th {\n",
              "        text-align: right;\n",
              "    }\n",
              "</style>\n",
              "<table border=\"1\" class=\"dataframe\">\n",
              "  <thead>\n",
              "    <tr style=\"text-align: right;\">\n",
              "      <th></th>\n",
              "      <th>show_id</th>\n",
              "      <th>type</th>\n",
              "      <th>title</th>\n",
              "      <th>director</th>\n",
              "      <th>cast</th>\n",
              "      <th>country</th>\n",
              "      <th>date_added</th>\n",
              "      <th>release_year</th>\n",
              "      <th>rating</th>\n",
              "      <th>duration</th>\n",
              "      <th>listed_in</th>\n",
              "      <th>description</th>\n",
              "    </tr>\n",
              "  </thead>\n",
              "  <tbody>\n",
              "    <tr>\n",
              "      <th>2870</th>\n",
              "      <td>s2871</td>\n",
              "      <td>Movie</td>\n",
              "      <td>Hunter's Prayer</td>\n",
              "      <td>Jonathan Mostow</td>\n",
              "      <td>Sam Worthington, Odeya Rush, Amy Landecker, Al...</td>\n",
              "      <td>United States, Spain, Germany</td>\n",
              "      <td>October 22, 2019</td>\n",
              "      <td>2015</td>\n",
              "      <td>R</td>\n",
              "      <td>91 min</td>\n",
              "      <td>Action &amp; Adventure, Independent Movies</td>\n",
              "      <td>A hired gun has second thoughts when he's cont...</td>\n",
              "    </tr>\n",
              "    <tr>\n",
              "      <th>3241</th>\n",
              "      <td>s3242</td>\n",
              "      <td>TV Show</td>\n",
              "      <td>Juman</td>\n",
              "      <td>NaN</td>\n",
              "      <td>Nour Al Ghandour, Muhanad Al-Hamdi, Huda El Kh...</td>\n",
              "      <td>Kuwait</td>\n",
              "      <td>December 8, 2020</td>\n",
              "      <td>2019</td>\n",
              "      <td>TV-G</td>\n",
              "      <td>1 Season</td>\n",
              "      <td>International TV Shows, Romantic TV Shows, TV ...</td>\n",
              "      <td>Despite their estranged families, Juman and Hi...</td>\n",
              "    </tr>\n",
              "    <tr>\n",
              "      <th>4796</th>\n",
              "      <td>s4797</td>\n",
              "      <td>Movie</td>\n",
              "      <td>Patton Oswalt: Annihilation</td>\n",
              "      <td>Bobcat Goldthwait</td>\n",
              "      <td>Patton Oswalt</td>\n",
              "      <td>United States</td>\n",
              "      <td>October 17, 2017</td>\n",
              "      <td>2017</td>\n",
              "      <td>TV-MA</td>\n",
              "      <td>66 min</td>\n",
              "      <td>Stand-Up Comedy</td>\n",
              "      <td>By turns scathing and candid, Patton Oswalt re...</td>\n",
              "    </tr>\n",
              "    <tr>\n",
              "      <th>5867</th>\n",
              "      <td>s5868</td>\n",
              "      <td>TV Show</td>\n",
              "      <td>Suburra: Blood on Rome</td>\n",
              "      <td>NaN</td>\n",
              "      <td>Alessandro Borghi, Giacomo Ferrara, Eduardo Va...</td>\n",
              "      <td>Italy</td>\n",
              "      <td>October 30, 2020</td>\n",
              "      <td>2020</td>\n",
              "      <td>TV-MA</td>\n",
              "      <td>3 Seasons</td>\n",
              "      <td>Crime TV Shows, International TV Shows, TV Dramas</td>\n",
              "      <td>In 2008, a fight over land in a seaside town n...</td>\n",
              "    </tr>\n",
              "    <tr>\n",
              "      <th>5544</th>\n",
              "      <td>s5545</td>\n",
              "      <td>Movie</td>\n",
              "      <td>Shattered Memories</td>\n",
              "      <td>Chris Sivertson</td>\n",
              "      <td>Elizabeth Bogush, Brad Schmidt, Sarah Lind, Ed...</td>\n",
              "      <td>United States</td>\n",
              "      <td>October 23, 2020</td>\n",
              "      <td>2018</td>\n",
              "      <td>TV-14</td>\n",
              "      <td>86 min</td>\n",
              "      <td>Dramas, Thrillers</td>\n",
              "      <td>When her former lover's mysteriously murdered,...</td>\n",
              "    </tr>\n",
              "  </tbody>\n",
              "</table>\n",
              "</div>\n",
              "    <div class=\"colab-df-buttons\">\n",
              "\n",
              "  <div class=\"colab-df-container\">\n",
              "    <button class=\"colab-df-convert\" onclick=\"convertToInteractive('df-56c598b9-8e69-4b1b-8302-689bd3522d53')\"\n",
              "            title=\"Convert this dataframe to an interactive table.\"\n",
              "            style=\"display:none;\">\n",
              "\n",
              "  <svg xmlns=\"http://www.w3.org/2000/svg\" height=\"24px\" viewBox=\"0 -960 960 960\">\n",
              "    <path d=\"M120-120v-720h720v720H120Zm60-500h600v-160H180v160Zm220 220h160v-160H400v160Zm0 220h160v-160H400v160ZM180-400h160v-160H180v160Zm440 0h160v-160H620v160ZM180-180h160v-160H180v160Zm440 0h160v-160H620v160Z\"/>\n",
              "  </svg>\n",
              "    </button>\n",
              "\n",
              "  <style>\n",
              "    .colab-df-container {\n",
              "      display:flex;\n",
              "      gap: 12px;\n",
              "    }\n",
              "\n",
              "    .colab-df-convert {\n",
              "      background-color: #E8F0FE;\n",
              "      border: none;\n",
              "      border-radius: 50%;\n",
              "      cursor: pointer;\n",
              "      display: none;\n",
              "      fill: #1967D2;\n",
              "      height: 32px;\n",
              "      padding: 0 0 0 0;\n",
              "      width: 32px;\n",
              "    }\n",
              "\n",
              "    .colab-df-convert:hover {\n",
              "      background-color: #E2EBFA;\n",
              "      box-shadow: 0px 1px 2px rgba(60, 64, 67, 0.3), 0px 1px 3px 1px rgba(60, 64, 67, 0.15);\n",
              "      fill: #174EA6;\n",
              "    }\n",
              "\n",
              "    .colab-df-buttons div {\n",
              "      margin-bottom: 4px;\n",
              "    }\n",
              "\n",
              "    [theme=dark] .colab-df-convert {\n",
              "      background-color: #3B4455;\n",
              "      fill: #D2E3FC;\n",
              "    }\n",
              "\n",
              "    [theme=dark] .colab-df-convert:hover {\n",
              "      background-color: #434B5C;\n",
              "      box-shadow: 0px 1px 3px 1px rgba(0, 0, 0, 0.15);\n",
              "      filter: drop-shadow(0px 1px 2px rgba(0, 0, 0, 0.3));\n",
              "      fill: #FFFFFF;\n",
              "    }\n",
              "  </style>\n",
              "\n",
              "    <script>\n",
              "      const buttonEl =\n",
              "        document.querySelector('#df-56c598b9-8e69-4b1b-8302-689bd3522d53 button.colab-df-convert');\n",
              "      buttonEl.style.display =\n",
              "        google.colab.kernel.accessAllowed ? 'block' : 'none';\n",
              "\n",
              "      async function convertToInteractive(key) {\n",
              "        const element = document.querySelector('#df-56c598b9-8e69-4b1b-8302-689bd3522d53');\n",
              "        const dataTable =\n",
              "          await google.colab.kernel.invokeFunction('convertToInteractive',\n",
              "                                                    [key], {});\n",
              "        if (!dataTable) return;\n",
              "\n",
              "        const docLinkHtml = 'Like what you see? Visit the ' +\n",
              "          '<a target=\"_blank\" href=https://colab.research.google.com/notebooks/data_table.ipynb>data table notebook</a>'\n",
              "          + ' to learn more about interactive tables.';\n",
              "        element.innerHTML = '';\n",
              "        dataTable['output_type'] = 'display_data';\n",
              "        await google.colab.output.renderOutput(dataTable, element);\n",
              "        const docLink = document.createElement('div');\n",
              "        docLink.innerHTML = docLinkHtml;\n",
              "        element.appendChild(docLink);\n",
              "      }\n",
              "    </script>\n",
              "  </div>\n",
              "\n",
              "\n",
              "<div id=\"df-ff6e6aca-77a9-4cdf-89c9-3db8872a8dff\">\n",
              "  <button class=\"colab-df-quickchart\" onclick=\"quickchart('df-ff6e6aca-77a9-4cdf-89c9-3db8872a8dff')\"\n",
              "            title=\"Suggest charts\"\n",
              "            style=\"display:none;\">\n",
              "\n",
              "<svg xmlns=\"http://www.w3.org/2000/svg\" height=\"24px\"viewBox=\"0 0 24 24\"\n",
              "     width=\"24px\">\n",
              "    <g>\n",
              "        <path d=\"M19 3H5c-1.1 0-2 .9-2 2v14c0 1.1.9 2 2 2h14c1.1 0 2-.9 2-2V5c0-1.1-.9-2-2-2zM9 17H7v-7h2v7zm4 0h-2V7h2v10zm4 0h-2v-4h2v4z\"/>\n",
              "    </g>\n",
              "</svg>\n",
              "  </button>\n",
              "\n",
              "<style>\n",
              "  .colab-df-quickchart {\n",
              "      --bg-color: #E8F0FE;\n",
              "      --fill-color: #1967D2;\n",
              "      --hover-bg-color: #E2EBFA;\n",
              "      --hover-fill-color: #174EA6;\n",
              "      --disabled-fill-color: #AAA;\n",
              "      --disabled-bg-color: #DDD;\n",
              "  }\n",
              "\n",
              "  [theme=dark] .colab-df-quickchart {\n",
              "      --bg-color: #3B4455;\n",
              "      --fill-color: #D2E3FC;\n",
              "      --hover-bg-color: #434B5C;\n",
              "      --hover-fill-color: #FFFFFF;\n",
              "      --disabled-bg-color: #3B4455;\n",
              "      --disabled-fill-color: #666;\n",
              "  }\n",
              "\n",
              "  .colab-df-quickchart {\n",
              "    background-color: var(--bg-color);\n",
              "    border: none;\n",
              "    border-radius: 50%;\n",
              "    cursor: pointer;\n",
              "    display: none;\n",
              "    fill: var(--fill-color);\n",
              "    height: 32px;\n",
              "    padding: 0;\n",
              "    width: 32px;\n",
              "  }\n",
              "\n",
              "  .colab-df-quickchart:hover {\n",
              "    background-color: var(--hover-bg-color);\n",
              "    box-shadow: 0 1px 2px rgba(60, 64, 67, 0.3), 0 1px 3px 1px rgba(60, 64, 67, 0.15);\n",
              "    fill: var(--button-hover-fill-color);\n",
              "  }\n",
              "\n",
              "  .colab-df-quickchart-complete:disabled,\n",
              "  .colab-df-quickchart-complete:disabled:hover {\n",
              "    background-color: var(--disabled-bg-color);\n",
              "    fill: var(--disabled-fill-color);\n",
              "    box-shadow: none;\n",
              "  }\n",
              "\n",
              "  .colab-df-spinner {\n",
              "    border: 2px solid var(--fill-color);\n",
              "    border-color: transparent;\n",
              "    border-bottom-color: var(--fill-color);\n",
              "    animation:\n",
              "      spin 1s steps(1) infinite;\n",
              "  }\n",
              "\n",
              "  @keyframes spin {\n",
              "    0% {\n",
              "      border-color: transparent;\n",
              "      border-bottom-color: var(--fill-color);\n",
              "      border-left-color: var(--fill-color);\n",
              "    }\n",
              "    20% {\n",
              "      border-color: transparent;\n",
              "      border-left-color: var(--fill-color);\n",
              "      border-top-color: var(--fill-color);\n",
              "    }\n",
              "    30% {\n",
              "      border-color: transparent;\n",
              "      border-left-color: var(--fill-color);\n",
              "      border-top-color: var(--fill-color);\n",
              "      border-right-color: var(--fill-color);\n",
              "    }\n",
              "    40% {\n",
              "      border-color: transparent;\n",
              "      border-right-color: var(--fill-color);\n",
              "      border-top-color: var(--fill-color);\n",
              "    }\n",
              "    60% {\n",
              "      border-color: transparent;\n",
              "      border-right-color: var(--fill-color);\n",
              "    }\n",
              "    80% {\n",
              "      border-color: transparent;\n",
              "      border-right-color: var(--fill-color);\n",
              "      border-bottom-color: var(--fill-color);\n",
              "    }\n",
              "    90% {\n",
              "      border-color: transparent;\n",
              "      border-bottom-color: var(--fill-color);\n",
              "    }\n",
              "  }\n",
              "</style>\n",
              "\n",
              "  <script>\n",
              "    async function quickchart(key) {\n",
              "      const quickchartButtonEl =\n",
              "        document.querySelector('#' + key + ' button');\n",
              "      quickchartButtonEl.disabled = true;  // To prevent multiple clicks.\n",
              "      quickchartButtonEl.classList.add('colab-df-spinner');\n",
              "      try {\n",
              "        const charts = await google.colab.kernel.invokeFunction(\n",
              "            'suggestCharts', [key], {});\n",
              "      } catch (error) {\n",
              "        console.error('Error during call to suggestCharts:', error);\n",
              "      }\n",
              "      quickchartButtonEl.classList.remove('colab-df-spinner');\n",
              "      quickchartButtonEl.classList.add('colab-df-quickchart-complete');\n",
              "    }\n",
              "    (() => {\n",
              "      let quickchartButtonEl =\n",
              "        document.querySelector('#df-ff6e6aca-77a9-4cdf-89c9-3db8872a8dff button');\n",
              "      quickchartButtonEl.style.display =\n",
              "        google.colab.kernel.accessAllowed ? 'block' : 'none';\n",
              "    })();\n",
              "  </script>\n",
              "</div>\n",
              "\n",
              "    </div>\n",
              "  </div>\n"
            ],
            "application/vnd.google.colaboratory.intrinsic+json": {
              "type": "dataframe",
              "repr_error": "0"
            }
          },
          "metadata": {},
          "execution_count": 10
        }
      ]
    },
    {
      "cell_type": "code",
      "source": [
        "#Display all TV Shows released after 2010.\n",
        "relasae_after_2010 = df[(df[\"type\"] == \"TV Show\") & (df[\"release_year\"] > 2010) &  (df[\"release_year\"] < 2015)]\n",
        "# print(relasae_after_2010[\"title\"])\n",
        "print(relasae_after_2010[\"release_year\"].count)\n",
        "#list of the release movie count on each year\n",
        "relasae_after_2010[\"release_year\"].value_counts()\n",
        "\n",
        "#show bar graph\n",
        "plt.bar(relasae_after_2010[\"release_year\"],relasae_after_2010[\"type\"].value_counts(),color=\"skyblue\")\n",
        "plt.title(\"Bar Plot Male vs Female Survived Graph\")\n",
        "plt.xlabel(\"Gender\")\n",
        "plt.ylabel(\"Total survived\")\n",
        "plt.show()\n",
        "\n",
        "#show the male female Survived graph\n",
        "# df_male = df[df[\"Sex\"] == \"male\"]\n",
        "# df_female = df[df[\"Sex\"] == \"female\"]\n",
        "# #show bar graph\n",
        "# plt.bar([\"male\",\"female\"],[df_male[\"Survived\"].sum(),df_female[\"Survived\"].sum()],color=\"skyblue\")\n",
        "# plt.title(\"Bar Plot Male vs Female Survived Graph\")\n",
        "# plt.xlabel(\"Gender\")\n",
        "# plt.ylabel(\"Total survived\")\n",
        "# plt.show()\n",
        "\n",
        "\n",
        "\n"
      ],
      "metadata": {
        "colab": {
          "base_uri": "https://localhost:8080/",
          "height": 680
        },
        "id": "6WVJnEvQAPYn",
        "outputId": "ca8b1c37-f4be-4575-adb0-c0ac3991a8f6"
      },
      "execution_count": null,
      "outputs": [
        {
          "output_type": "stream",
          "name": "stdout",
          "text": [
            "<bound method Series.count of 45      2013\n",
            "61      2014\n",
            "80      2013\n",
            "180     2013\n",
            "258     2013\n",
            "        ... \n",
            "7664    2014\n",
            "7709    2014\n",
            "7740    2014\n",
            "7743    2012\n",
            "7767    2012\n",
            "Name: release_year, Length: 255, dtype: int64>\n"
          ]
        },
        {
          "output_type": "display_data",
          "data": {
            "text/plain": [
              "<Figure size 640x480 with 1 Axes>"
            ],
            "image/png": "[encoded data removed]"
          },
          "metadata": {}
        }
      ]
    },
    {
      "cell_type": "code",
      "source": [
        "#Standardize the \"Duration\" column to display all durations in minutes.\n",
        "df[\"duration\"]\n",
        "#replace Seasons with min\n",
        "import re\n",
        "pattern = r\"^d*\\bmin\"\n",
        "df[\"duration\"] = df[\"duration\"].str.replace(\"Seasons\",\"min\")\n",
        "df[\"duration\"]"
      ],
      "metadata": {
        "colab": {
          "base_uri": "https://localhost:8080/",
          "height": 458
        },
        "id": "qaK9oVYtlY94",
        "outputId": "e153523d-e3a3-4fe4-d012-ffa5fb1972a8"
      },
      "execution_count": null,
      "outputs": [
        {
          "output_type": "execute_result",
          "data": {
            "text/plain": [
              "0          4 min\n",
              "1         93 min\n",
              "2         78 min\n",
              "3         80 min\n",
              "4        123 min\n",
              "          ...   \n",
              "7782      99 min\n",
              "7783     111 min\n",
              "7784      44 min\n",
              "7785    1 Season\n",
              "7786      90 min\n",
              "Name: duration, Length: 7787, dtype: object"
            ],
            "text/html": [
              "<div>\n",
              "<style scoped>\n",
              "    .dataframe tbody tr th:only-of-type {\n",
              "        vertical-align: middle;\n",
              "    }\n",
              "\n",
              "    .dataframe tbody tr th {\n",
              "        vertical-align: top;\n",
              "    }\n",
              "\n",
              "    .dataframe thead th {\n",
              "        text-align: right;\n",
              "    }\n",
              "</style>\n",
              "<table border=\"1\" class=\"dataframe\">\n",
              "  <thead>\n",
              "    <tr style=\"text-align: right;\">\n",
              "      <th></th>\n",
              "      <th>duration</th>\n",
              "    </tr>\n",
              "  </thead>\n",
              "  <tbody>\n",
              "    <tr>\n",
              "      <th>0</th>\n",
              "      <td>4 min</td>\n",
              "    </tr>\n",
              "    <tr>\n",
              "      <th>1</th>\n",
              "      <td>93 min</td>\n",
              "    </tr>\n",
              "    <tr>\n",
              "      <th>2</th>\n",
              "      <td>78 min</td>\n",
              "    </tr>\n",
              "    <tr>\n",
              "      <th>3</th>\n",
              "      <td>80 min</td>\n",
              "    </tr>\n",
              "    <tr>\n",
              "      <th>4</th>\n",
              "      <td>123 min</td>\n",
              "    </tr>\n",
              "    <tr>\n",
              "      <th>...</th>\n",
              "      <td>...</td>\n",
              "    </tr>\n",
              "    <tr>\n",
              "      <th>7782</th>\n",
              "      <td>99 min</td>\n",
              "    </tr>\n",
              "    <tr>\n",
              "      <th>7783</th>\n",
              "      <td>111 min</td>\n",
              "    </tr>\n",
              "    <tr>\n",
              "      <th>7784</th>\n",
              "      <td>44 min</td>\n",
              "    </tr>\n",
              "    <tr>\n",
              "      <th>7785</th>\n",
              "      <td>1 Season</td>\n",
              "    </tr>\n",
              "    <tr>\n",
              "      <th>7786</th>\n",
              "      <td>90 min</td>\n",
              "    </tr>\n",
              "  </tbody>\n",
              "</table>\n",
              "<p>7787 rows × 1 columns</p>\n",
              "</div><br><label><b>dtype:</b> object</label>"
            ]
          },
          "metadata": {},
          "execution_count": 23
        }
      ]
    },
    {
      "cell_type": "code",
      "source": [
        "#Generate a line plot showing the trend of content release over the years.\n",
        "df[\"release_year\"]\n",
        "plt.plot(df[\"release_year\"],)"
      ],
      "metadata": {
        "id": "80GV-j-BmRYT"
      },
      "execution_count": null,
      "outputs": []
    },
    {
      "cell_type": "markdown",
      "source": [
        "### Task: Project 1 Student dataset Analyze & visualize\n",
        "# New colab fileName: PP11-25-Project-Analyze-visualize\n"
      ],
      "metadata": {
        "id": "GpNxXy82Eg8I"
      }
    },
    {
      "cell_type": "code",
      "source": [
        "import pandas as pd\n",
        "import matplotlib.pyplot as plt"
      ],
      "metadata": {
        "id": "7AiUL5PzEwPj"
      },
      "execution_count": null,
      "outputs": []
    },
    {
      "cell_type": "code",
      "source": [
        "!wget https://raw.githubusercontent.com/Abdullahfoysal/pp11-Project-AnalyzeAndVisualize/refs/heads/main/student_data.csv"
      ],
      "metadata": {
        "colab": {
          "base_uri": "https://localhost:8080/"
        },
        "id": "j_wtQKEBErrn",
        "outputId": "db14d390-e8ee-4c57-cb8c-1a8c95363467"
      },
      "execution_count": null,
      "outputs": [
        {
          "output_type": "stream",
          "name": "stdout",
          "text": [
            "--2024-12-13 06:04:27--  https://raw.githubusercontent.com/Abdullahfoysal/pp11-Project-AnalyzeAndVisualize/refs/heads/main/student_data.csv\n",
            "Resolving raw.githubusercontent.com (raw.githubusercontent.com)... 185.199.110.133, 185.199.108.133, 185.199.111.133, ...\n",
            "Connecting to raw.githubusercontent.com (raw.githubusercontent.com)|185.199.110.133|:443... connected.\n",
            "HTTP request sent, awaiting response... 200 OK\n",
            "Length: 133023 (130K) [text/plain]\n",
            "Saving to: ‘student_data.csv’\n",
            "\n",
            "student_data.csv    100%[===================>] 129.91K  --.-KB/s    in 0.02s   \n",
            "\n",
            "2024-12-13 06:04:28 (5.10 MB/s) - ‘student_data.csv’ saved [133023/133023]\n",
            "\n"
          ]
        }
      ]
    },
    {
      "cell_type": "code",
      "source": [
        "#import titanic database from drive\n",
        "df = pd.read_csv(\"student_data.csv\")\n",
        "df.head()\n",
        "df.sample(5)"
      ],
      "metadata": {
        "colab": {
          "base_uri": "https://localhost:8080/",
          "height": 226
        },
        "id": "N8EHdAn5E0qY",
        "outputId": "f1983b66-dcec-4c67-8731-916a96c71a86"
      },
      "execution_count": null,
      "outputs": [
        {
          "output_type": "execute_result",
          "data": {
            "text/plain": [
              "      id first_name   last_name                           email    gender  \\\n",
              "388  389    Lorenzo     Lendrem         llendremas@google.co.jp      Male   \n",
              "993  994     Marthe    Ollerton        mollertonrl@usatoday.com  Bigender   \n",
              "553  554      Terry     Pleager         tpleagerfd@edublogs.org   Agender   \n",
              "921  922     Benito  Rutigliano  brutiglianopl@domainmarket.com      Male   \n",
              "937  938       Alon   Woloschin     awoloschinq1@macromedia.com   Agender   \n",
              "\n",
              "          ip_address  cgpa  passing_year   department  attendance  \\\n",
              "388   243.215.35.225  2.56        2014.0         Arts       21.45   \n",
              "993   32.128.133.189  0.17        2012.0  Engineering        5.70   \n",
              "553    37.125.48.145   NaN        2015.0     Medicine       94.45   \n",
              "921    159.99.156.48  1.30        2011.0     Medicine       80.53   \n",
              "937  118.143.158.225  2.67        2000.0  Engineering       13.65   \n",
              "\n",
              "    home_district  abroad_study  student_id  graduation_date  \\\n",
              "388       Chicago          True         389             2014   \n",
              "993       Chicago          True         994             2005   \n",
              "553       Chicago          True         554             2004   \n",
              "921       Chicago          True         922             2018   \n",
              "937      New York         False         938             2019   \n",
              "\n",
              "    study_abroad_country study_abroad_city  hsc_gpa  ssc_gpa  \n",
              "388                China       Fenghuanglu        4        5  \n",
              "993                China        Kaishantun        4        1  \n",
              "553            Indonesia           Sendung        2        5  \n",
              "921              Bolivia          Charagua        5        2  \n",
              "937                China   Liangwangzhuang        4        5  "
            ],
            "text/html": [
              "\n",
              "  <div id=\"df-1388f73e-ac3f-46de-b5ce-a66c24d51635\" class=\"colab-df-container\">\n",
              "    <div>\n",
              "<style scoped>\n",
              "    .dataframe tbody tr th:only-of-type {\n",
              "        vertical-align: middle;\n",
              "    }\n",
              "\n",
              "    .dataframe tbody tr th {\n",
              "        vertical-align: top;\n",
              "    }\n",
              "\n",
              "    .dataframe thead th {\n",
              "        text-align: right;\n",
              "    }\n",
              "</style>\n",
              "<table border=\"1\" class=\"dataframe\">\n",
              "  <thead>\n",
              "    <tr style=\"text-align: right;\">\n",
              "      <th></th>\n",
              "      <th>id</th>\n",
              "      <th>first_name</th>\n",
              "      <th>last_name</th>\n",
              "      <th>email</th>\n",
              "      <th>gender</th>\n",
              "      <th>ip_address</th>\n",
              "      <th>cgpa</th>\n",
              "      <th>passing_year</th>\n",
              "      <th>department</th>\n",
              "      <th>attendance</th>\n",
              "      <th>home_district</th>\n",
              "      <th>abroad_study</th>\n",
              "      <th>student_id</th>\n",
              "      <th>graduation_date</th>\n",
              "      <th>study_abroad_country</th>\n",
              "      <th>study_abroad_city</th>\n",
              "      <th>hsc_gpa</th>\n",
              "      <th>ssc_gpa</th>\n",
              "    </tr>\n",
              "  </thead>\n",
              "  <tbody>\n",
              "    <tr>\n",
              "      <th>388</th>\n",
              "      <td>389</td>\n",
              "      <td>Lorenzo</td>\n",
              "      <td>Lendrem</td>\n",
              "      <td>llendremas@google.co.jp</td>\n",
              "      <td>Male</td>\n",
              "      <td>243.215.35.225</td>\n",
              "      <td>2.56</td>\n",
              "      <td>2014.0</td>\n",
              "      <td>Arts</td>\n",
              "      <td>21.45</td>\n",
              "      <td>Chicago</td>\n",
              "      <td>True</td>\n",
              "      <td>389</td>\n",
              "      <td>2014</td>\n",
              "      <td>China</td>\n",
              "      <td>Fenghuanglu</td>\n",
              "      <td>4</td>\n",
              "      <td>5</td>\n",
              "    </tr>\n",
              "    <tr>\n",
              "      <th>993</th>\n",
              "      <td>994</td>\n",
              "      <td>Marthe</td>\n",
              "      <td>Ollerton</td>\n",
              "      <td>mollertonrl@usatoday.com</td>\n",
              "      <td>Bigender</td>\n",
              "      <td>32.128.133.189</td>\n",
              "      <td>0.17</td>\n",
              "      <td>2012.0</td>\n",
              "      <td>Engineering</td>\n",
              "      <td>5.70</td>\n",
              "      <td>Chicago</td>\n",
              "      <td>True</td>\n",
              "      <td>994</td>\n",
              "      <td>2005</td>\n",
              "      <td>China</td>\n",
              "      <td>Kaishantun</td>\n",
              "      <td>4</td>\n",
              "      <td>1</td>\n",
              "    </tr>\n",
              "    <tr>\n",
              "      <th>553</th>\n",
              "      <td>554</td>\n",
              "      <td>Terry</td>\n",
              "      <td>Pleager</td>\n",
              "      <td>tpleagerfd@edublogs.org</td>\n",
              "      <td>Agender</td>\n",
              "      <td>37.125.48.145</td>\n",
              "      <td>NaN</td>\n",
              "      <td>2015.0</td>\n",
              "      <td>Medicine</td>\n",
              "      <td>94.45</td>\n",
              "      <td>Chicago</td>\n",
              "      <td>True</td>\n",
              "      <td>554</td>\n",
              "      <td>2004</td>\n",
              "      <td>Indonesia</td>\n",
              "      <td>Sendung</td>\n",
              "      <td>2</td>\n",
              "      <td>5</td>\n",
              "    </tr>\n",
              "    <tr>\n",
              "      <th>921</th>\n",
              "      <td>922</td>\n",
              "      <td>Benito</td>\n",
              "      <td>Rutigliano</td>\n",
              "      <td>brutiglianopl@domainmarket.com</td>\n",
              "      <td>Male</td>\n",
              "      <td>159.99.156.48</td>\n",
              "      <td>1.30</td>\n",
              "      <td>2011.0</td>\n",
              "      <td>Medicine</td>\n",
              "      <td>80.53</td>\n",
              "      <td>Chicago</td>\n",
              "      <td>True</td>\n",
              "      <td>922</td>\n",
              "      <td>2018</td>\n",
              "      <td>Bolivia</td>\n",
              "      <td>Charagua</td>\n",
              "      <td>5</td>\n",
              "      <td>2</td>\n",
              "    </tr>\n",
              "    <tr>\n",
              "      <th>937</th>\n",
              "      <td>938</td>\n",
              "      <td>Alon</td>\n",
              "      <td>Woloschin</td>\n",
              "      <td>awoloschinq1@macromedia.com</td>\n",
              "      <td>Agender</td>\n",
              "      <td>118.143.158.225</td>\n",
              "      <td>2.67</td>\n",
              "      <td>2000.0</td>\n",
              "      <td>Engineering</td>\n",
              "      <td>13.65</td>\n",
              "      <td>New York</td>\n",
              "      <td>False</td>\n",
              "      <td>938</td>\n",
              "      <td>2019</td>\n",
              "      <td>China</td>\n",
              "      <td>Liangwangzhuang</td>\n",
              "      <td>4</td>\n",
              "      <td>5</td>\n",
              "    </tr>\n",
              "  </tbody>\n",
              "</table>\n",
              "</div>\n",
              "    <div class=\"colab-df-buttons\">\n",
              "\n",
              "  <div class=\"colab-df-container\">\n",
              "    <button class=\"colab-df-convert\" onclick=\"convertToInteractive('df-1388f73e-ac3f-46de-b5ce-a66c24d51635')\"\n",
              "            title=\"Convert this dataframe to an interactive table.\"\n",
              "            style=\"display:none;\">\n",
              "\n",
              "  <svg xmlns=\"http://www.w3.org/2000/svg\" height=\"24px\" viewBox=\"0 -960 960 960\">\n",
              "    <path d=\"M120-120v-720h720v720H120Zm60-500h600v-160H180v160Zm220 220h160v-160H400v160Zm0 220h160v-160H400v160ZM180-400h160v-160H180v160Zm440 0h160v-160H620v160ZM180-180h160v-160H180v160Zm440 0h160v-160H620v160Z\"/>\n",
              "  </svg>\n",
              "    </button>\n",
              "\n",
              "  <style>\n",
              "    .colab-df-container {\n",
              "      display:flex;\n",
              "      gap: 12px;\n",
              "    }\n",
              "\n",
              "    .colab-df-convert {\n",
              "      background-color: #E8F0FE;\n",
              "      border: none;\n",
              "      border-radius: 50%;\n",
              "      cursor: pointer;\n",
              "      display: none;\n",
              "      fill: #1967D2;\n",
              "      height: 32px;\n",
              "      padding: 0 0 0 0;\n",
              "      width: 32px;\n",
              "    }\n",
              "\n",
              "    .colab-df-convert:hover {\n",
              "      background-color: #E2EBFA;\n",
              "      box-shadow: 0px 1px 2px rgba(60, 64, 67, 0.3), 0px 1px 3px 1px rgba(60, 64, 67, 0.15);\n",
              "      fill: #174EA6;\n",
              "    }\n",
              "\n",
              "    .colab-df-buttons div {\n",
              "      margin-bottom: 4px;\n",
              "    }\n",
              "\n",
              "    [theme=dark] .colab-df-convert {\n",
              "      background-color: #3B4455;\n",
              "      fill: #D2E3FC;\n",
              "    }\n",
              "\n",
              "    [theme=dark] .colab-df-convert:hover {\n",
              "      background-color: #434B5C;\n",
              "      box-shadow: 0px 1px 3px 1px rgba(0, 0, 0, 0.15);\n",
              "      filter: drop-shadow(0px 1px 2px rgba(0, 0, 0, 0.3));\n",
              "      fill: #FFFFFF;\n",
              "    }\n",
              "  </style>\n",
              "\n",
              "    <script>\n",
              "      const buttonEl =\n",
              "        document.querySelector('#df-1388f73e-ac3f-46de-b5ce-a66c24d51635 button.colab-df-convert');\n",
              "      buttonEl.style.display =\n",
              "        google.colab.kernel.accessAllowed ? 'block' : 'none';\n",
              "\n",
              "      async function convertToInteractive(key) {\n",
              "        const element = document.querySelector('#df-1388f73e-ac3f-46de-b5ce-a66c24d51635');\n",
              "        const dataTable =\n",
              "          await google.colab.kernel.invokeFunction('convertToInteractive',\n",
              "                                                    [key], {});\n",
              "        if (!dataTable) return;\n",
              "\n",
              "        const docLinkHtml = 'Like what you see? Visit the ' +\n",
              "          '<a target=\"_blank\" href=https://colab.research.google.com/notebooks/data_table.ipynb>data table notebook</a>'\n",
              "          + ' to learn more about interactive tables.';\n",
              "        element.innerHTML = '';\n",
              "        dataTable['output_type'] = 'display_data';\n",
              "        await google.colab.output.renderOutput(dataTable, element);\n",
              "        const docLink = document.createElement('div');\n",
              "        docLink.innerHTML = docLinkHtml;\n",
              "        element.appendChild(docLink);\n",
              "      }\n",
              "    </script>\n",
              "  </div>\n",
              "\n",
              "\n",
              "<div id=\"df-71dbc42f-fefe-4ba3-b7a8-3ccceea316f3\">\n",
              "  <button class=\"colab-df-quickchart\" onclick=\"quickchart('df-71dbc42f-fefe-4ba3-b7a8-3ccceea316f3')\"\n",
              "            title=\"Suggest charts\"\n",
              "            style=\"display:none;\">\n",
              "\n",
              "<svg xmlns=\"http://www.w3.org/2000/svg\" height=\"24px\"viewBox=\"0 0 24 24\"\n",
              "     width=\"24px\">\n",
              "    <g>\n",
              "        <path d=\"M19 3H5c-1.1 0-2 .9-2 2v14c0 1.1.9 2 2 2h14c1.1 0 2-.9 2-2V5c0-1.1-.9-2-2-2zM9 17H7v-7h2v7zm4 0h-2V7h2v10zm4 0h-2v-4h2v4z\"/>\n",
              "    </g>\n",
              "</svg>\n",
              "  </button>\n",
              "\n",
              "<style>\n",
              "  .colab-df-quickchart {\n",
              "      --bg-color: #E8F0FE;\n",
              "      --fill-color: #1967D2;\n",
              "      --hover-bg-color: #E2EBFA;\n",
              "      --hover-fill-color: #174EA6;\n",
              "      --disabled-fill-color: #AAA;\n",
              "      --disabled-bg-color: #DDD;\n",
              "  }\n",
              "\n",
              "  [theme=dark] .colab-df-quickchart {\n",
              "      --bg-color: #3B4455;\n",
              "      --fill-color: #D2E3FC;\n",
              "      --hover-bg-color: #434B5C;\n",
              "      --hover-fill-color: #FFFFFF;\n",
              "      --disabled-bg-color: #3B4455;\n",
              "      --disabled-fill-color: #666;\n",
              "  }\n",
              "\n",
              "  .colab-df-quickchart {\n",
              "    background-color: var(--bg-color);\n",
              "    border: none;\n",
              "    border-radius: 50%;\n",
              "    cursor: pointer;\n",
              "    display: none;\n",
              "    fill: var(--fill-color);\n",
              "    height: 32px;\n",
              "    padding: 0;\n",
              "    width: 32px;\n",
              "  }\n",
              "\n",
              "  .colab-df-quickchart:hover {\n",
              "    background-color: var(--hover-bg-color);\n",
              "    box-shadow: 0 1px 2px rgba(60, 64, 67, 0.3), 0 1px 3px 1px rgba(60, 64, 67, 0.15);\n",
              "    fill: var(--button-hover-fill-color);\n",
              "  }\n",
              "\n",
              "  .colab-df-quickchart-complete:disabled,\n",
              "  .colab-df-quickchart-complete:disabled:hover {\n",
              "    background-color: var(--disabled-bg-color);\n",
              "    fill: var(--disabled-fill-color);\n",
              "    box-shadow: none;\n",
              "  }\n",
              "\n",
              "  .colab-df-spinner {\n",
              "    border: 2px solid var(--fill-color);\n",
              "    border-color: transparent;\n",
              "    border-bottom-color: var(--fill-color);\n",
              "    animation:\n",
              "      spin 1s steps(1) infinite;\n",
              "  }\n",
              "\n",
              "  @keyframes spin {\n",
              "    0% {\n",
              "      border-color: transparent;\n",
              "      border-bottom-color: var(--fill-color);\n",
              "      border-left-color: var(--fill-color);\n",
              "    }\n",
              "    20% {\n",
              "      border-color: transparent;\n",
              "      border-left-color: var(--fill-color);\n",
              "      border-top-color: var(--fill-color);\n",
              "    }\n",
              "    30% {\n",
              "      border-color: transparent;\n",
              "      border-left-color: var(--fill-color);\n",
              "      border-top-color: var(--fill-color);\n",
              "      border-right-color: var(--fill-color);\n",
              "    }\n",
              "    40% {\n",
              "      border-color: transparent;\n",
              "      border-right-color: var(--fill-color);\n",
              "      border-top-color: var(--fill-color);\n",
              "    }\n",
              "    60% {\n",
              "      border-color: transparent;\n",
              "      border-right-color: var(--fill-color);\n",
              "    }\n",
              "    80% {\n",
              "      border-color: transparent;\n",
              "      border-right-color: var(--fill-color);\n",
              "      border-bottom-color: var(--fill-color);\n",
              "    }\n",
              "    90% {\n",
              "      border-color: transparent;\n",
              "      border-bottom-color: var(--fill-color);\n",
              "    }\n",
              "  }\n",
              "</style>\n",
              "\n",
              "  <script>\n",
              "    async function quickchart(key) {\n",
              "      const quickchartButtonEl =\n",
              "        document.querySelector('#' + key + ' button');\n",
              "      quickchartButtonEl.disabled = true;  // To prevent multiple clicks.\n",
              "      quickchartButtonEl.classList.add('colab-df-spinner');\n",
              "      try {\n",
              "        const charts = await google.colab.kernel.invokeFunction(\n",
              "            'suggestCharts', [key], {});\n",
              "      } catch (error) {\n",
              "        console.error('Error during call to suggestCharts:', error);\n",
              "      }\n",
              "      quickchartButtonEl.classList.remove('colab-df-spinner');\n",
              "      quickchartButtonEl.classList.add('colab-df-quickchart-complete');\n",
              "    }\n",
              "    (() => {\n",
              "      let quickchartButtonEl =\n",
              "        document.querySelector('#df-71dbc42f-fefe-4ba3-b7a8-3ccceea316f3 button');\n",
              "      quickchartButtonEl.style.display =\n",
              "        google.colab.kernel.accessAllowed ? 'block' : 'none';\n",
              "    })();\n",
              "  </script>\n",
              "</div>\n",
              "\n",
              "    </div>\n",
              "  </div>\n"
            ],
            "application/vnd.google.colaboratory.intrinsic+json": {
              "type": "dataframe",
              "summary": "{\n  \"name\": \"df\",\n  \"rows\": 5,\n  \"fields\": [\n    {\n      \"column\": \"id\",\n      \"properties\": {\n        \"dtype\": \"number\",\n        \"std\": 270,\n        \"min\": 389,\n        \"max\": 994,\n        \"num_unique_values\": 5,\n        \"samples\": [\n          994,\n          938,\n          554\n        ],\n        \"semantic_type\": \"\",\n        \"description\": \"\"\n      }\n    },\n    {\n      \"column\": \"first_name\",\n      \"properties\": {\n        \"dtype\": \"string\",\n        \"num_unique_values\": 5,\n        \"samples\": [\n          \"Marthe\",\n          \"Alon\",\n          \"Terry\"\n        ],\n        \"semantic_type\": \"\",\n        \"description\": \"\"\n      }\n    },\n    {\n      \"column\": \"last_name\",\n      \"properties\": {\n        \"dtype\": \"string\",\n        \"num_unique_values\": 5,\n        \"samples\": [\n          \"Ollerton\",\n          \"Woloschin\",\n          \"Pleager\"\n        ],\n        \"semantic_type\": \"\",\n        \"description\": \"\"\n      }\n    },\n    {\n      \"column\": \"email\",\n      \"properties\": {\n        \"dtype\": \"string\",\n        \"num_unique_values\": 5,\n        \"samples\": [\n          \"mollertonrl@usatoday.com\",\n          \"awoloschinq1@macromedia.com\",\n          \"tpleagerfd@edublogs.org\"\n        ],\n        \"semantic_type\": \"\",\n        \"description\": \"\"\n      }\n    },\n    {\n      \"column\": \"gender\",\n      \"properties\": {\n        \"dtype\": \"string\",\n        \"num_unique_values\": 3,\n        \"samples\": [\n          \"Male\",\n          \"Bigender\",\n          \"Agender\"\n        ],\n        \"semantic_type\": \"\",\n        \"description\": \"\"\n      }\n    },\n    {\n      \"column\": \"ip_address\",\n      \"properties\": {\n        \"dtype\": \"string\",\n        \"num_unique_values\": 5,\n        \"samples\": [\n          \"32.128.133.189\",\n          \"118.143.158.225\",\n          \"37.125.48.145\"\n        ],\n        \"semantic_type\": \"\",\n        \"description\": \"\"\n      }\n    },\n    {\n      \"column\": \"cgpa\",\n      \"properties\": {\n        \"dtype\": \"number\",\n        \"std\": 1.1802400885695532,\n        \"min\": 0.17,\n        \"max\": 2.67,\n        \"num_unique_values\": 4,\n        \"samples\": [\n          0.17,\n          2.67,\n          2.56\n        ],\n        \"semantic_type\": \"\",\n        \"description\": \"\"\n      }\n    },\n    {\n      \"column\": \"passing_year\",\n      \"properties\": {\n        \"dtype\": \"number\",\n        \"std\": 6.024948132556827,\n        \"min\": 2000.0,\n        \"max\": 2015.0,\n        \"num_unique_values\": 5,\n        \"samples\": [\n          2012.0,\n          2000.0,\n          2015.0\n        ],\n        \"semantic_type\": \"\",\n        \"description\": \"\"\n      }\n    },\n    {\n      \"column\": \"department\",\n      \"properties\": {\n        \"dtype\": \"string\",\n        \"num_unique_values\": 3,\n        \"samples\": [\n          \"Arts\",\n          \"Engineering\",\n          \"Medicine\"\n        ],\n        \"semantic_type\": \"\",\n        \"description\": \"\"\n      }\n    },\n    {\n      \"column\": \"attendance\",\n      \"properties\": {\n        \"dtype\": \"number\",\n        \"std\": 41.14789399228106,\n        \"min\": 5.7,\n        \"max\": 94.45,\n        \"num_unique_values\": 5,\n        \"samples\": [\n          5.7,\n          13.65,\n          94.45\n        ],\n        \"semantic_type\": \"\",\n        \"description\": \"\"\n      }\n    },\n    {\n      \"column\": \"home_district\",\n      \"properties\": {\n        \"dtype\": \"category\",\n        \"num_unique_values\": 2,\n        \"samples\": [\n          \"New York\",\n          \"Chicago\"\n        ],\n        \"semantic_type\": \"\",\n        \"description\": \"\"\n      }\n    },\n    {\n      \"column\": \"abroad_study\",\n      \"properties\": {\n        \"dtype\": \"boolean\",\n        \"num_unique_values\": 2,\n        \"samples\": [\n          false,\n          true\n        ],\n        \"semantic_type\": \"\",\n        \"description\": \"\"\n      }\n    },\n    {\n      \"column\": \"student_id\",\n      \"properties\": {\n        \"dtype\": \"number\",\n        \"std\": 270,\n        \"min\": 389,\n        \"max\": 994,\n        \"num_unique_values\": 5,\n        \"samples\": [\n          994,\n          938\n        ],\n        \"semantic_type\": \"\",\n        \"description\": \"\"\n      }\n    },\n    {\n      \"column\": \"graduation_date\",\n      \"properties\": {\n        \"dtype\": \"number\",\n        \"std\": 7,\n        \"min\": 2004,\n        \"max\": 2019,\n        \"num_unique_values\": 5,\n        \"samples\": [\n          2005,\n          2019\n        ],\n        \"semantic_type\": \"\",\n        \"description\": \"\"\n      }\n    },\n    {\n      \"column\": \"study_abroad_country\",\n      \"properties\": {\n        \"dtype\": \"string\",\n        \"num_unique_values\": 3,\n        \"samples\": [\n          \"China\",\n          \"Indonesia\"\n        ],\n        \"semantic_type\": \"\",\n        \"description\": \"\"\n      }\n    },\n    {\n      \"column\": \"study_abroad_city\",\n      \"properties\": {\n        \"dtype\": \"string\",\n        \"num_unique_values\": 5,\n        \"samples\": [\n          \"Kaishantun\",\n          \"Liangwangzhuang\"\n        ],\n        \"semantic_type\": \"\",\n        \"description\": \"\"\n      }\n    },\n    {\n      \"column\": \"hsc_gpa\",\n      \"properties\": {\n        \"dtype\": \"number\",\n        \"std\": 1,\n        \"min\": 2,\n        \"max\": 5,\n        \"num_unique_values\": 3,\n        \"samples\": [\n          4,\n          2\n        ],\n        \"semantic_type\": \"\",\n        \"description\": \"\"\n      }\n    },\n    {\n      \"column\": \"ssc_gpa\",\n      \"properties\": {\n        \"dtype\": \"number\",\n        \"std\": 1,\n        \"min\": 1,\n        \"max\": 5,\n        \"num_unique_values\": 3,\n        \"samples\": [\n          5,\n          1\n        ],\n        \"semantic_type\": \"\",\n        \"description\": \"\"\n      }\n    }\n  ]\n}"
            }
          },
          "metadata": {},
          "execution_count": 3
        }
      ]
    },
    {
      "cell_type": "code",
      "source": [
        "cgpa_list = df[\"cgpa\"]\n",
        "print(cgpa_list)\n",
        "attendance_list = df[\"attendance\"]\n",
        "print(attendance_list)\n",
        "\n",
        "print(attendance_list)"
      ],
      "metadata": {
        "colab": {
          "base_uri": "https://localhost:8080/"
        },
        "id": "pAGX7dmHnWTu",
        "outputId": "ac270165-26c6-4d38-8b7d-79b2fbc34b0d"
      },
      "execution_count": null,
      "outputs": [
        {
          "output_type": "stream",
          "name": "stdout",
          "text": [
            "0      0.13\n",
            "1       NaN\n",
            "2       NaN\n",
            "3      3.27\n",
            "4      0.20\n",
            "       ... \n",
            "995    0.49\n",
            "996    0.37\n",
            "997    1.04\n",
            "998     NaN\n",
            "999    2.22\n",
            "Name: cgpa, Length: 1000, dtype: float64\n",
            "0      63.56\n",
            "1      76.00\n",
            "2       9.91\n",
            "3      90.09\n",
            "4      91.36\n",
            "       ...  \n",
            "995      NaN\n",
            "996     8.18\n",
            "997    92.60\n",
            "998    61.29\n",
            "999    70.99\n",
            "Name: attendance, Length: 1000, dtype: float64\n"
          ]
        }
      ]
    },
    {
      "cell_type": "code",
      "source": [
        "# add multiple condition to color\n",
        "colors = []\n",
        "\n",
        "for i in range(len(attendance_list)):\n",
        "  if((attendance_list[i] > 10) and (cgpa_list[i] > 3.0)):\n",
        "    colors.append(\"green\")\n",
        "  else:\n",
        "    colors.append(\"red\")\n",
        "#colors = [\"green\" if attendance > 10  else \"red\" for attendance in attendance_list]\n",
        "\n",
        "\n",
        "plt.scatter(cgpa_list,attendance_list,color= colors,label=\"Fail Points\")\n",
        "plt.title(\"Scatter CGPA vs Attendance with Fail (red)\")\n",
        "plt.xlabel(\"CGPA\")\n",
        "plt.ylabel(\"Attendance\")\n",
        "plt.legend()\n",
        "plt.show()"
      ],
      "metadata": {
        "colab": {
          "base_uri": "https://localhost:8080/",
          "height": 472
        },
        "id": "mkZBFokLoeXs",
        "outputId": "9a2c4a4e-cff0-49d9-d465-b861796d26cf"
      },
      "execution_count": null,
      "outputs": [
        {
          "output_type": "display_data",
          "data": {
            "text/plain": [
              "<Figure size 640x480 with 1 Axes>"
            ],
            "image/png": "[encoded data removed]"
          },
          "metadata": {}
        }
      ]
    }
  ]
}